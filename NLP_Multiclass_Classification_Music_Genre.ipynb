{
  "nbformat": 4,
  "nbformat_minor": 0,
  "metadata": {
    "colab": {
      "name": "Text_Multiclass_Classification_Music_Genre.ipynb",
      "provenance": [],
      "collapsed_sections": [],
      "toc_visible": true,
      "authorship_tag": "ABX9TyNr5olSGZZYBgU4n/udkheF",
      "include_colab_link": true
    },
    "kernelspec": {
      "name": "python3",
      "display_name": "Python 3"
    },
    "widgets": {
      "application/vnd.jupyter.widget-state+json": {
        "59266648fd084ab196f5fecfe235e0fb": {
          "model_module": "@jupyter-widgets/controls",
          "model_name": "HBoxModel",
          "state": {
            "_view_name": "HBoxView",
            "_dom_classes": [],
            "_model_name": "HBoxModel",
            "_view_module": "@jupyter-widgets/controls",
            "_model_module_version": "1.5.0",
            "_view_count": null,
            "_view_module_version": "1.5.0",
            "box_style": "",
            "layout": "IPY_MODEL_744538fcb2fc4697bdaa9810ed0278d3",
            "_model_module": "@jupyter-widgets/controls",
            "children": [
              "IPY_MODEL_b4eecccf13c444a69955e49af7e027c9",
              "IPY_MODEL_d18f2cea2603485c8d4c17fec2e6a7f8"
            ]
          }
        },
        "744538fcb2fc4697bdaa9810ed0278d3": {
          "model_module": "@jupyter-widgets/base",
          "model_name": "LayoutModel",
          "state": {
            "_view_name": "LayoutView",
            "grid_template_rows": null,
            "right": null,
            "justify_content": null,
            "_view_module": "@jupyter-widgets/base",
            "overflow": null,
            "_model_module_version": "1.2.0",
            "_view_count": null,
            "flex_flow": null,
            "width": null,
            "min_width": null,
            "border": null,
            "align_items": null,
            "bottom": null,
            "_model_module": "@jupyter-widgets/base",
            "top": null,
            "grid_column": null,
            "overflow_y": null,
            "overflow_x": null,
            "grid_auto_flow": null,
            "grid_area": null,
            "grid_template_columns": null,
            "flex": null,
            "_model_name": "LayoutModel",
            "justify_items": null,
            "grid_row": null,
            "max_height": null,
            "align_content": null,
            "visibility": null,
            "align_self": null,
            "height": null,
            "min_height": null,
            "padding": null,
            "grid_auto_rows": null,
            "grid_gap": null,
            "max_width": null,
            "order": null,
            "_view_module_version": "1.2.0",
            "grid_template_areas": null,
            "object_position": null,
            "object_fit": null,
            "grid_auto_columns": null,
            "margin": null,
            "display": null,
            "left": null
          }
        },
        "b4eecccf13c444a69955e49af7e027c9": {
          "model_module": "@jupyter-widgets/controls",
          "model_name": "FloatProgressModel",
          "state": {
            "_view_name": "ProgressView",
            "style": "IPY_MODEL_f8a2abfd54364dfb8f2deec4a08c1283",
            "_dom_classes": [],
            "description": "100%",
            "_model_name": "FloatProgressModel",
            "bar_style": "success",
            "max": 4017,
            "_view_module": "@jupyter-widgets/controls",
            "_model_module_version": "1.5.0",
            "value": 4017,
            "_view_count": null,
            "_view_module_version": "1.5.0",
            "orientation": "horizontal",
            "min": 0,
            "description_tooltip": null,
            "_model_module": "@jupyter-widgets/controls",
            "layout": "IPY_MODEL_c8129c9a66fb4ec08249db8ff52b2fe9"
          }
        },
        "d18f2cea2603485c8d4c17fec2e6a7f8": {
          "model_module": "@jupyter-widgets/controls",
          "model_name": "HTMLModel",
          "state": {
            "_view_name": "HTMLView",
            "style": "IPY_MODEL_3645fbdc38d34f35b7cbbad7085628f7",
            "_dom_classes": [],
            "description": "",
            "_model_name": "HTMLModel",
            "placeholder": "​",
            "_view_module": "@jupyter-widgets/controls",
            "_model_module_version": "1.5.0",
            "value": " 4017/4017 [00:02&lt;00:00, 1441.52it/s]",
            "_view_count": null,
            "_view_module_version": "1.5.0",
            "description_tooltip": null,
            "_model_module": "@jupyter-widgets/controls",
            "layout": "IPY_MODEL_e70a8fe8eb88453da51329ffde4ceb97"
          }
        },
        "f8a2abfd54364dfb8f2deec4a08c1283": {
          "model_module": "@jupyter-widgets/controls",
          "model_name": "ProgressStyleModel",
          "state": {
            "_view_name": "StyleView",
            "_model_name": "ProgressStyleModel",
            "description_width": "initial",
            "_view_module": "@jupyter-widgets/base",
            "_model_module_version": "1.5.0",
            "_view_count": null,
            "_view_module_version": "1.2.0",
            "bar_color": null,
            "_model_module": "@jupyter-widgets/controls"
          }
        },
        "c8129c9a66fb4ec08249db8ff52b2fe9": {
          "model_module": "@jupyter-widgets/base",
          "model_name": "LayoutModel",
          "state": {
            "_view_name": "LayoutView",
            "grid_template_rows": null,
            "right": null,
            "justify_content": null,
            "_view_module": "@jupyter-widgets/base",
            "overflow": null,
            "_model_module_version": "1.2.0",
            "_view_count": null,
            "flex_flow": null,
            "width": null,
            "min_width": null,
            "border": null,
            "align_items": null,
            "bottom": null,
            "_model_module": "@jupyter-widgets/base",
            "top": null,
            "grid_column": null,
            "overflow_y": null,
            "overflow_x": null,
            "grid_auto_flow": null,
            "grid_area": null,
            "grid_template_columns": null,
            "flex": null,
            "_model_name": "LayoutModel",
            "justify_items": null,
            "grid_row": null,
            "max_height": null,
            "align_content": null,
            "visibility": null,
            "align_self": null,
            "height": null,
            "min_height": null,
            "padding": null,
            "grid_auto_rows": null,
            "grid_gap": null,
            "max_width": null,
            "order": null,
            "_view_module_version": "1.2.0",
            "grid_template_areas": null,
            "object_position": null,
            "object_fit": null,
            "grid_auto_columns": null,
            "margin": null,
            "display": null,
            "left": null
          }
        },
        "3645fbdc38d34f35b7cbbad7085628f7": {
          "model_module": "@jupyter-widgets/controls",
          "model_name": "DescriptionStyleModel",
          "state": {
            "_view_name": "StyleView",
            "_model_name": "DescriptionStyleModel",
            "description_width": "",
            "_view_module": "@jupyter-widgets/base",
            "_model_module_version": "1.5.0",
            "_view_count": null,
            "_view_module_version": "1.2.0",
            "_model_module": "@jupyter-widgets/controls"
          }
        },
        "e70a8fe8eb88453da51329ffde4ceb97": {
          "model_module": "@jupyter-widgets/base",
          "model_name": "LayoutModel",
          "state": {
            "_view_name": "LayoutView",
            "grid_template_rows": null,
            "right": null,
            "justify_content": null,
            "_view_module": "@jupyter-widgets/base",
            "overflow": null,
            "_model_module_version": "1.2.0",
            "_view_count": null,
            "flex_flow": null,
            "width": null,
            "min_width": null,
            "border": null,
            "align_items": null,
            "bottom": null,
            "_model_module": "@jupyter-widgets/base",
            "top": null,
            "grid_column": null,
            "overflow_y": null,
            "overflow_x": null,
            "grid_auto_flow": null,
            "grid_area": null,
            "grid_template_columns": null,
            "flex": null,
            "_model_name": "LayoutModel",
            "justify_items": null,
            "grid_row": null,
            "max_height": null,
            "align_content": null,
            "visibility": null,
            "align_self": null,
            "height": null,
            "min_height": null,
            "padding": null,
            "grid_auto_rows": null,
            "grid_gap": null,
            "max_width": null,
            "order": null,
            "_view_module_version": "1.2.0",
            "grid_template_areas": null,
            "object_position": null,
            "object_fit": null,
            "grid_auto_columns": null,
            "margin": null,
            "display": null,
            "left": null
          }
        },
        "b028ef1613b043ecb65c9da507c27ac6": {
          "model_module": "@jupyter-widgets/controls",
          "model_name": "HBoxModel",
          "state": {
            "_view_name": "HBoxView",
            "_dom_classes": [],
            "_model_name": "HBoxModel",
            "_view_module": "@jupyter-widgets/controls",
            "_model_module_version": "1.5.0",
            "_view_count": null,
            "_view_module_version": "1.5.0",
            "box_style": "",
            "layout": "IPY_MODEL_ce20dd94bde6460080bb142b2370af25",
            "_model_module": "@jupyter-widgets/controls",
            "children": [
              "IPY_MODEL_08b700b37baa476eaf7487d64a538e72",
              "IPY_MODEL_f2cf07e1b40049eb88bb41657e9b3a11"
            ]
          }
        },
        "ce20dd94bde6460080bb142b2370af25": {
          "model_module": "@jupyter-widgets/base",
          "model_name": "LayoutModel",
          "state": {
            "_view_name": "LayoutView",
            "grid_template_rows": null,
            "right": null,
            "justify_content": null,
            "_view_module": "@jupyter-widgets/base",
            "overflow": null,
            "_model_module_version": "1.2.0",
            "_view_count": null,
            "flex_flow": null,
            "width": null,
            "min_width": null,
            "border": null,
            "align_items": null,
            "bottom": null,
            "_model_module": "@jupyter-widgets/base",
            "top": null,
            "grid_column": null,
            "overflow_y": null,
            "overflow_x": null,
            "grid_auto_flow": null,
            "grid_area": null,
            "grid_template_columns": null,
            "flex": null,
            "_model_name": "LayoutModel",
            "justify_items": null,
            "grid_row": null,
            "max_height": null,
            "align_content": null,
            "visibility": null,
            "align_self": null,
            "height": null,
            "min_height": null,
            "padding": null,
            "grid_auto_rows": null,
            "grid_gap": null,
            "max_width": null,
            "order": null,
            "_view_module_version": "1.2.0",
            "grid_template_areas": null,
            "object_position": null,
            "object_fit": null,
            "grid_auto_columns": null,
            "margin": null,
            "display": null,
            "left": null
          }
        },
        "08b700b37baa476eaf7487d64a538e72": {
          "model_module": "@jupyter-widgets/controls",
          "model_name": "FloatProgressModel",
          "state": {
            "_view_name": "ProgressView",
            "style": "IPY_MODEL_96f172e58a61475cba982fb82640e75a",
            "_dom_classes": [],
            "description": "100%",
            "_model_name": "FloatProgressModel",
            "bar_style": "success",
            "max": 1980,
            "_view_module": "@jupyter-widgets/controls",
            "_model_module_version": "1.5.0",
            "value": 1980,
            "_view_count": null,
            "_view_module_version": "1.5.0",
            "orientation": "horizontal",
            "min": 0,
            "description_tooltip": null,
            "_model_module": "@jupyter-widgets/controls",
            "layout": "IPY_MODEL_d3ee42182804435ca6c742e5dac0b1f2"
          }
        },
        "f2cf07e1b40049eb88bb41657e9b3a11": {
          "model_module": "@jupyter-widgets/controls",
          "model_name": "HTMLModel",
          "state": {
            "_view_name": "HTMLView",
            "style": "IPY_MODEL_dd692e5052c74d4eb1e44925f04cd28a",
            "_dom_classes": [],
            "description": "",
            "_model_name": "HTMLModel",
            "placeholder": "​",
            "_view_module": "@jupyter-widgets/controls",
            "_model_module_version": "1.5.0",
            "value": " 1980/1980 [00:07&lt;00:00, 255.18it/s]",
            "_view_count": null,
            "_view_module_version": "1.5.0",
            "description_tooltip": null,
            "_model_module": "@jupyter-widgets/controls",
            "layout": "IPY_MODEL_ce2ca5e72f6342c0872927235ee9a168"
          }
        },
        "96f172e58a61475cba982fb82640e75a": {
          "model_module": "@jupyter-widgets/controls",
          "model_name": "ProgressStyleModel",
          "state": {
            "_view_name": "StyleView",
            "_model_name": "ProgressStyleModel",
            "description_width": "initial",
            "_view_module": "@jupyter-widgets/base",
            "_model_module_version": "1.5.0",
            "_view_count": null,
            "_view_module_version": "1.2.0",
            "bar_color": null,
            "_model_module": "@jupyter-widgets/controls"
          }
        },
        "d3ee42182804435ca6c742e5dac0b1f2": {
          "model_module": "@jupyter-widgets/base",
          "model_name": "LayoutModel",
          "state": {
            "_view_name": "LayoutView",
            "grid_template_rows": null,
            "right": null,
            "justify_content": null,
            "_view_module": "@jupyter-widgets/base",
            "overflow": null,
            "_model_module_version": "1.2.0",
            "_view_count": null,
            "flex_flow": null,
            "width": null,
            "min_width": null,
            "border": null,
            "align_items": null,
            "bottom": null,
            "_model_module": "@jupyter-widgets/base",
            "top": null,
            "grid_column": null,
            "overflow_y": null,
            "overflow_x": null,
            "grid_auto_flow": null,
            "grid_area": null,
            "grid_template_columns": null,
            "flex": null,
            "_model_name": "LayoutModel",
            "justify_items": null,
            "grid_row": null,
            "max_height": null,
            "align_content": null,
            "visibility": null,
            "align_self": null,
            "height": null,
            "min_height": null,
            "padding": null,
            "grid_auto_rows": null,
            "grid_gap": null,
            "max_width": null,
            "order": null,
            "_view_module_version": "1.2.0",
            "grid_template_areas": null,
            "object_position": null,
            "object_fit": null,
            "grid_auto_columns": null,
            "margin": null,
            "display": null,
            "left": null
          }
        },
        "dd692e5052c74d4eb1e44925f04cd28a": {
          "model_module": "@jupyter-widgets/controls",
          "model_name": "DescriptionStyleModel",
          "state": {
            "_view_name": "StyleView",
            "_model_name": "DescriptionStyleModel",
            "description_width": "",
            "_view_module": "@jupyter-widgets/base",
            "_model_module_version": "1.5.0",
            "_view_count": null,
            "_view_module_version": "1.2.0",
            "_model_module": "@jupyter-widgets/controls"
          }
        },
        "ce2ca5e72f6342c0872927235ee9a168": {
          "model_module": "@jupyter-widgets/base",
          "model_name": "LayoutModel",
          "state": {
            "_view_name": "LayoutView",
            "grid_template_rows": null,
            "right": null,
            "justify_content": null,
            "_view_module": "@jupyter-widgets/base",
            "overflow": null,
            "_model_module_version": "1.2.0",
            "_view_count": null,
            "flex_flow": null,
            "width": null,
            "min_width": null,
            "border": null,
            "align_items": null,
            "bottom": null,
            "_model_module": "@jupyter-widgets/base",
            "top": null,
            "grid_column": null,
            "overflow_y": null,
            "overflow_x": null,
            "grid_auto_flow": null,
            "grid_area": null,
            "grid_template_columns": null,
            "flex": null,
            "_model_name": "LayoutModel",
            "justify_items": null,
            "grid_row": null,
            "max_height": null,
            "align_content": null,
            "visibility": null,
            "align_self": null,
            "height": null,
            "min_height": null,
            "padding": null,
            "grid_auto_rows": null,
            "grid_gap": null,
            "max_width": null,
            "order": null,
            "_view_module_version": "1.2.0",
            "grid_template_areas": null,
            "object_position": null,
            "object_fit": null,
            "grid_auto_columns": null,
            "margin": null,
            "display": null,
            "left": null
          }
        }
      }
    },
    "accelerator": "GPU"
  },
  "cells": [
    {
      "cell_type": "markdown",
      "metadata": {
        "id": "view-in-github",
        "colab_type": "text"
      },
      "source": [
        "<a href=\"https://colab.research.google.com/github/brunoleme/Multilabel_and_Text_Classification/blob/main/Text_Multiclass_Classification_Music_Genre.ipynb\" target=\"_parent\"><img src=\"https://colab.research.google.com/assets/colab-badge.svg\" alt=\"Open In Colab\"/></a>"
      ]
    },
    {
      "cell_type": "markdown",
      "metadata": {
        "id": "Zw7iK-1cX6uZ"
      },
      "source": [
        "# **Dependencies**"
      ]
    },
    {
      "cell_type": "code",
      "metadata": {
        "colab": {
          "base_uri": "https://localhost:8080/"
        },
        "id": "Tjmah7aINRnn",
        "outputId": "1972d223-27b0-47bd-ae10-6e49079ae26a"
      },
      "source": [
        "from google.colab import drive\n",
        "drive.mount('/content/drive')"
      ],
      "execution_count": 1,
      "outputs": [
        {
          "output_type": "stream",
          "text": [
            "Drive already mounted at /content/drive; to attempt to forcibly remount, call drive.mount(\"/content/drive\", force_remount=True).\n"
          ],
          "name": "stdout"
        }
      ]
    },
    {
      "cell_type": "code",
      "metadata": {
        "colab": {
          "base_uri": "https://localhost:8080/"
        },
        "id": "4_vHGdkBYFZ9",
        "outputId": "7236d0f5-9bde-4f59-d903-8acb6143ceb1"
      },
      "source": [
        "!pip install transformers"
      ],
      "execution_count": 2,
      "outputs": [
        {
          "output_type": "stream",
          "text": [
            "Requirement already satisfied: transformers in /usr/local/lib/python3.6/dist-packages (4.0.0)\n",
            "Requirement already satisfied: sacremoses in /usr/local/lib/python3.6/dist-packages (from transformers) (0.0.43)\n",
            "Requirement already satisfied: regex!=2019.12.17 in /usr/local/lib/python3.6/dist-packages (from transformers) (2019.12.20)\n",
            "Requirement already satisfied: tqdm>=4.27 in /usr/local/lib/python3.6/dist-packages (from transformers) (4.41.1)\n",
            "Requirement already satisfied: tokenizers==0.9.4 in /usr/local/lib/python3.6/dist-packages (from transformers) (0.9.4)\n",
            "Requirement already satisfied: dataclasses; python_version < \"3.7\" in /usr/local/lib/python3.6/dist-packages (from transformers) (0.8)\n",
            "Requirement already satisfied: requests in /usr/local/lib/python3.6/dist-packages (from transformers) (2.23.0)\n",
            "Requirement already satisfied: filelock in /usr/local/lib/python3.6/dist-packages (from transformers) (3.0.12)\n",
            "Requirement already satisfied: packaging in /usr/local/lib/python3.6/dist-packages (from transformers) (20.4)\n",
            "Requirement already satisfied: numpy in /usr/local/lib/python3.6/dist-packages (from transformers) (1.18.5)\n",
            "Requirement already satisfied: click in /usr/local/lib/python3.6/dist-packages (from sacremoses->transformers) (7.1.2)\n",
            "Requirement already satisfied: joblib in /usr/local/lib/python3.6/dist-packages (from sacremoses->transformers) (0.17.0)\n",
            "Requirement already satisfied: six in /usr/local/lib/python3.6/dist-packages (from sacremoses->transformers) (1.15.0)\n",
            "Requirement already satisfied: certifi>=2017.4.17 in /usr/local/lib/python3.6/dist-packages (from requests->transformers) (2020.11.8)\n",
            "Requirement already satisfied: idna<3,>=2.5 in /usr/local/lib/python3.6/dist-packages (from requests->transformers) (2.10)\n",
            "Requirement already satisfied: urllib3!=1.25.0,!=1.25.1,<1.26,>=1.21.1 in /usr/local/lib/python3.6/dist-packages (from requests->transformers) (1.24.3)\n",
            "Requirement already satisfied: chardet<4,>=3.0.2 in /usr/local/lib/python3.6/dist-packages (from requests->transformers) (3.0.4)\n",
            "Requirement already satisfied: pyparsing>=2.0.2 in /usr/local/lib/python3.6/dist-packages (from packaging->transformers) (2.4.7)\n"
          ],
          "name": "stdout"
        }
      ]
    },
    {
      "cell_type": "code",
      "metadata": {
        "id": "V0iVqvI0Nmlr"
      },
      "source": [
        "import pickle\n",
        "import re\n",
        "import pandas as pd\n",
        "import numpy as np\n",
        "\n",
        "from sklearn.feature_extraction.text import TfidfVectorizer\n",
        "from sklearn.linear_model import LogisticRegression\n",
        "from sklearn.tree import DecisionTreeClassifier\n",
        "from sklearn.preprocessing import StandardScaler\n",
        "from sklearn.feature_selection import SelectKBest, chi2, SelectFromModel\n",
        "from sklearn.preprocessing import LabelEncoder\n",
        "from sklearn.metrics import accuracy_score\n",
        "from sklearn.model_selection import RandomizedSearchCV\n",
        "from scipy.stats import uniform\n",
        "from sklearn.pipeline import Pipeline\n",
        "from sklearn.model_selection import train_test_split\n",
        "\n",
        "import torch\n",
        "import torch.nn as nn\n",
        "import transformers\n",
        "import torch.utils.data as tdata\n",
        "import torch.optim as optim\n",
        "\n",
        "from transformers import AutoModel, AutoTokenizer, BertForSequenceClassification\n",
        "\n",
        "import tqdm"
      ],
      "execution_count": 3,
      "outputs": []
    },
    {
      "cell_type": "markdown",
      "metadata": {
        "id": "MOVryHM2LmIZ"
      },
      "source": [
        "# **Data Prep**"
      ]
    },
    {
      "cell_type": "code",
      "metadata": {
        "id": "vGT359bxNvU3"
      },
      "source": [
        "with open('/content/drive/My Drive/AI_n_Music/axe.pkl', 'rb') as file:\n",
        "    lyrics_axe = pickle.load(file)\n",
        "with open('/content/drive/My Drive/AI_n_Music/funk.pkl', 'rb') as file:\n",
        "    lyrics_funk = pickle.load(file)\n",
        "with open('/content/drive/My Drive/AI_n_Music/mpb.pkl', 'rb') as file:\n",
        "    lyrics_mpb = pickle.load(file)\n",
        "with open('/content/drive/My Drive/AI_n_Music/pagode.pkl', 'rb') as file:\n",
        "    lyrics_pagode = pickle.load(file)\n",
        "with open('/content/drive/My Drive/AI_n_Music/samba.pkl', 'rb') as file:\n",
        "    lyrics_samba = pickle.load(file)\n",
        "with open('/content/drive/My Drive/AI_n_Music/sertanejo.pkl', 'rb') as file:\n",
        "    lyrics_sertanejo = pickle.load(file)"
      ],
      "execution_count": 4,
      "outputs": []
    },
    {
      "cell_type": "markdown",
      "metadata": {
        "id": "8FLkbNbbhYjm"
      },
      "source": [
        "## **Data Cleansing**"
      ]
    },
    {
      "cell_type": "markdown",
      "metadata": {
        "id": "6kYcqwhUeRHV"
      },
      "source": [
        "Consolidating in a unique list, as well as normalizing texts, and also cleaning html tags and special characters."
      ]
    },
    {
      "cell_type": "code",
      "metadata": {
        "id": "vFeP10HvUgHf"
      },
      "source": [
        "lyrics = []\n",
        "for lyric in lyrics_axe:\n",
        "  l = lyric[3].replace('</p>', '\\n').replace('<p>', '\\n').replace('<br>', '\\n').replace('<br/>', '\\n').replace('</br>', '\\n').replace('\\n\\n\\n', '\\n\\n').lower()\n",
        "  l = re.sub(r'[^ \\nA-Za-z0-9À-ÖØ-öø-ÿ/]+', '', l)\n",
        "  lyrics.append(('axe', l))\n",
        "for lyric in lyrics_funk:\n",
        "  l = lyric[3].replace('</p>', '\\n').replace('<p>', '\\n').replace('<br>', '\\n').replace('<br/>', '\\n').replace('</br>', '\\n').replace('\\n\\n\\n', '\\n\\n').lower()\n",
        "  l = re.sub(r'[^ \\nA-Za-z0-9À-ÖØ-öø-ÿ/]+', '', l)\n",
        "  lyrics.append(('funk', l))\n",
        "for lyric in lyrics_mpb:\n",
        "  l = lyric[3].replace('</p>', '\\n').replace('<p>', '\\n').replace('<br>', '\\n').replace('<br/>', '\\n').replace('</br>', '\\n').replace('\\n\\n\\n', '\\n\\n').lower()\n",
        "  l = re.sub(r'[^ \\nA-Za-z0-9À-ÖØ-öø-ÿ/]+', '', l)\n",
        "  lyrics.append(('mpb', l))\n",
        "for lyric in lyrics_pagode:\n",
        "  l = lyric[3].replace('</p>', '\\n').replace('<p>', '\\n').replace('<br>', '\\n').replace('<br/>', '\\n').replace('</br>', '\\n').replace('\\n\\n\\n', '\\n\\n').lower()\n",
        "  l = re.sub(r'[^ \\nA-Za-z0-9À-ÖØ-öø-ÿ/]+', '', l)\n",
        "  lyrics.append(('pagode', l))\n",
        "for lyric in lyrics_samba:\n",
        "  l = lyric[3].replace('</p>', '\\n').replace('<p>', '\\n').replace('<br>', '\\n').replace('<br/>', '\\n').replace('</br>', '\\n').replace('\\n\\n\\n', '\\n\\n').lower()\n",
        "  l = re.sub(r'[^ \\nA-Za-z0-9À-ÖØ-öø-ÿ/]+', '', l)\n",
        "  lyrics.append(('samba', l))\n",
        "for lyric in lyrics_sertanejo:\n",
        "  l = lyric[3].replace('</p>', '\\n').replace('<p>', '\\n').replace('<br>', '\\n').replace('<br/>', '\\n').replace('</br>', '\\n').replace('\\n\\n\\n', '\\n\\n').lower()\n",
        "  l = re.sub(r'[^ \\nA-Za-z0-9À-ÖØ-öø-ÿ/]+', '', l)\n",
        "  lyrics.append(('sertanejo', l))"
      ],
      "execution_count": 5,
      "outputs": []
    },
    {
      "cell_type": "code",
      "metadata": {
        "id": "Ny4Cc4EXqZwG"
      },
      "source": [
        "#Creating lyrics index\n",
        "data = []\n",
        "for ix, lyric in enumerate(lyrics):\n",
        "  if len(lyric[1].split()) == 0:\n",
        "    continue\n",
        "  data.append((ix, lyric[0], lyric[1])) #ix = index, lyric[0] = genre, lyric[1] = lyric"
      ],
      "execution_count": 6,
      "outputs": []
    },
    {
      "cell_type": "markdown",
      "metadata": {
        "id": "1CeFQnRthQmb"
      },
      "source": [
        "Possible genres."
      ]
    },
    {
      "cell_type": "code",
      "metadata": {
        "colab": {
          "base_uri": "https://localhost:8080/"
        },
        "id": "N_SBMcsZTSJs",
        "outputId": "aa156cf2-3026-472c-c47b-14fda8a5f727"
      },
      "source": [
        "np.unique([genre for _, genre, _ in data])"
      ],
      "execution_count": 7,
      "outputs": [
        {
          "output_type": "execute_result",
          "data": {
            "text/plain": [
              "array(['axe', 'funk', 'mpb', 'pagode', 'samba', 'sertanejo'], dtype='<U9')"
            ]
          },
          "metadata": {
            "tags": []
          },
          "execution_count": 7
        }
      ]
    },
    {
      "cell_type": "code",
      "metadata": {
        "colab": {
          "base_uri": "https://localhost:8080/"
        },
        "id": "tmqkg7UWTn1e",
        "outputId": "e0602c2d-f8a5-43c2-e0a8-7aab957bc70d"
      },
      "source": [
        "len(np.unique([genre for _, genre, _ in data]))"
      ],
      "execution_count": 8,
      "outputs": [
        {
          "output_type": "execute_result",
          "data": {
            "text/plain": [
              "6"
            ]
          },
          "metadata": {
            "tags": []
          },
          "execution_count": 8
        }
      ]
    },
    {
      "cell_type": "markdown",
      "metadata": {
        "id": "0t7Cb5RGhVrd"
      },
      "source": [
        "## **Data Patition**"
      ]
    },
    {
      "cell_type": "code",
      "metadata": {
        "id": "M--8hqvFejHO"
      },
      "source": [
        "data_train, data_valid = train_test_split(data, test_size=0.33, random_state=12345)"
      ],
      "execution_count": 9,
      "outputs": []
    },
    {
      "cell_type": "code",
      "metadata": {
        "id": "VdQ3FeKLkZOu"
      },
      "source": [
        "X_data_train = [lyric for _, _, lyric in data_train]\n",
        "X_data_valid = [lyric for _, _, lyric in data_valid]\n",
        "Y_data_train = [genre for _, genre, _ in data_train]\n",
        "Y_data_valid = [genre for _, genre, _ in data_valid]"
      ],
      "execution_count": 10,
      "outputs": []
    },
    {
      "cell_type": "markdown",
      "metadata": {
        "id": "7KSHA4rqhnU0"
      },
      "source": [
        "## **Target Label Encoding**"
      ]
    },
    {
      "cell_type": "code",
      "metadata": {
        "id": "FKb6iltnmXsS"
      },
      "source": [
        "le = LabelEncoder()\n",
        "Y_data_train_2 = le.fit_transform(Y_data_train)\n",
        "Y_data_valid_2 = le.transform(Y_data_valid)"
      ],
      "execution_count": 11,
      "outputs": []
    },
    {
      "cell_type": "code",
      "metadata": {
        "colab": {
          "base_uri": "https://localhost:8080/"
        },
        "id": "JVUxYEvRmdRA",
        "outputId": "38ac5be6-09ce-452e-8c41-3fba5e90c04e"
      },
      "source": [
        "le.classes_"
      ],
      "execution_count": 12,
      "outputs": [
        {
          "output_type": "execute_result",
          "data": {
            "text/plain": [
              "array(['axe', 'funk', 'mpb', 'pagode', 'samba', 'sertanejo'], dtype='<U9')"
            ]
          },
          "metadata": {
            "tags": []
          },
          "execution_count": 12
        }
      ]
    },
    {
      "cell_type": "markdown",
      "metadata": {
        "id": "7MX18tRnYUqO"
      },
      "source": [
        "# **Modelling**"
      ]
    },
    {
      "cell_type": "markdown",
      "metadata": {
        "id": "3qNrNy77isi4"
      },
      "source": [
        "## **Model 1 - Bag of Words - TFIDF**"
      ]
    },
    {
      "cell_type": "code",
      "metadata": {
        "colab": {
          "base_uri": "https://localhost:8080/"
        },
        "id": "0TlhY7wTIPba",
        "outputId": "b23556b9-6f88-457f-a7ae-fe7a060f81de"
      },
      "source": [
        "import nltk\n",
        "nltk.download('stopwords')"
      ],
      "execution_count": 13,
      "outputs": [
        {
          "output_type": "stream",
          "text": [
            "[nltk_data] Downloading package stopwords to /root/nltk_data...\n",
            "[nltk_data]   Package stopwords is already up-to-date!\n"
          ],
          "name": "stdout"
        },
        {
          "output_type": "execute_result",
          "data": {
            "text/plain": [
              "True"
            ]
          },
          "metadata": {
            "tags": []
          },
          "execution_count": 13
        }
      ]
    },
    {
      "cell_type": "code",
      "metadata": {
        "id": "a7icJgZhiucK"
      },
      "source": [
        "from nltk.corpus import stopwords"
      ],
      "execution_count": 14,
      "outputs": []
    },
    {
      "cell_type": "markdown",
      "metadata": {
        "id": "eZ8vzvCCjoLX"
      },
      "source": [
        "Using TFIDF as word vectorizer, ignoring portuguese stop words."
      ]
    },
    {
      "cell_type": "code",
      "metadata": {
        "id": "D6duGU3vIWl_"
      },
      "source": [
        "cv = TfidfVectorizer(stop_words=stopwords.words('portuguese')) #"
      ],
      "execution_count": 15,
      "outputs": []
    },
    {
      "cell_type": "code",
      "metadata": {
        "id": "8RsFqc6BlEdb"
      },
      "source": [
        "X_data_train_2 = cv.fit_transform(X_data_train)\n",
        "X_data_valid_2 = cv.transform(X_data_valid)"
      ],
      "execution_count": 16,
      "outputs": []
    },
    {
      "cell_type": "markdown",
      "metadata": {
        "id": "Hz9h-aL-j3cR"
      },
      "source": [
        "Defining domain for parameter tuning of ngram range, number of selected features (sfm__k), regularization penalty (l1 and l2) and strengh (C)."
      ]
    },
    {
      "cell_type": "code",
      "metadata": {
        "id": "BCGmfcFX_JUf"
      },
      "source": [
        "param_dist = dict(vectorizer__ngram_range = [(1,2), (1, 2), (1, 3)],\n",
        "                  sfm__k=list(range(1, 10000)),\n",
        "                  logistic__penalty=['l2', 'l1'],\n",
        "                  logistic__C=uniform(loc=0, scale=4))"
      ],
      "execution_count": 17,
      "outputs": []
    },
    {
      "cell_type": "markdown",
      "metadata": {
        "id": "9wMlQPc3lrG2"
      },
      "source": [
        "Defining a Pipeline to tune vectorizer, feasture selection (SelectKBest) and Logistic Regression, via Randomized Search."
      ]
    },
    {
      "cell_type": "code",
      "metadata": {
        "colab": {
          "base_uri": "https://localhost:8080/"
        },
        "id": "2bDQ9nF288y8",
        "outputId": "876b2770-f9bb-42e0-d3b8-6ffd488e73b4"
      },
      "source": [
        "# create pipeline with a scaler \n",
        "steps = []\n",
        "steps.append(('vectorizer', cv))\n",
        "steps.append(('sfm', SelectKBest(chi2)))\n",
        "steps.append(('logistic', LogisticRegression(solver='liblinear', max_iter=200, random_state=12345)))\n",
        "pipeline = Pipeline(steps)\n",
        "\n",
        "# do search\n",
        "search = RandomizedSearchCV(pipeline, param_distributions=param_dist)\n",
        "search.fit(X_data_train, Y_data_train_2)"
      ],
      "execution_count": 18,
      "outputs": [
        {
          "output_type": "stream",
          "text": [
            "/usr/local/lib/python3.6/dist-packages/sklearn/svm/_base.py:947: ConvergenceWarning: Liblinear failed to converge, increase the number of iterations.\n",
            "  \"the number of iterations.\", ConvergenceWarning)\n",
            "/usr/local/lib/python3.6/dist-packages/sklearn/svm/_base.py:947: ConvergenceWarning: Liblinear failed to converge, increase the number of iterations.\n",
            "  \"the number of iterations.\", ConvergenceWarning)\n"
          ],
          "name": "stderr"
        },
        {
          "output_type": "execute_result",
          "data": {
            "text/plain": [
              "RandomizedSearchCV(cv=None, error_score=nan,\n",
              "                   estimator=Pipeline(memory=None,\n",
              "                                      steps=[('vectorizer',\n",
              "                                              TfidfVectorizer(analyzer='word',\n",
              "                                                              binary=False,\n",
              "                                                              decode_error='strict',\n",
              "                                                              dtype=<class 'numpy.float64'>,\n",
              "                                                              encoding='utf-8',\n",
              "                                                              input='content',\n",
              "                                                              lowercase=True,\n",
              "                                                              max_df=1.0,\n",
              "                                                              max_features=None,\n",
              "                                                              min_df=1,\n",
              "                                                              ngram_range=(1,\n",
              "                                                                           1),\n",
              "                                                              norm='l2',\n",
              "                                                              preprocessor=None,\n",
              "                                                              smooth_idf=True,\n",
              "                                                              stop_words=...\n",
              "                   param_distributions={'logistic__C': <scipy.stats._distn_infrastructure.rv_frozen object at 0x7f50c99a7dd8>,\n",
              "                                        'logistic__penalty': ['l2', 'l1'],\n",
              "                                        'sfm__k': [1, 2, 3, 4, 5, 6, 7, 8, 9,\n",
              "                                                   10, 11, 12, 13, 14, 15, 16,\n",
              "                                                   17, 18, 19, 20, 21, 22, 23,\n",
              "                                                   24, 25, 26, 27, 28, 29, 30, ...],\n",
              "                                        'vectorizer__ngram_range': [(1, 2),\n",
              "                                                                    (1, 2),\n",
              "                                                                    (1, 3)]},\n",
              "                   pre_dispatch='2*n_jobs', random_state=None, refit=True,\n",
              "                   return_train_score=False, scoring=None, verbose=0)"
            ]
          },
          "metadata": {
            "tags": []
          },
          "execution_count": 18
        }
      ]
    },
    {
      "cell_type": "markdown",
      "metadata": {
        "id": "i-bmk5nKmAmx"
      },
      "source": [
        "Best Parameters:"
      ]
    },
    {
      "cell_type": "code",
      "metadata": {
        "colab": {
          "base_uri": "https://localhost:8080/"
        },
        "id": "6rWEJqa51AEN",
        "outputId": "f17925a7-43bb-4dca-f56c-01f6d76d5740"
      },
      "source": [
        "search.best_params_"
      ],
      "execution_count": 19,
      "outputs": [
        {
          "output_type": "execute_result",
          "data": {
            "text/plain": [
              "{'logistic__C': 1.7533179964393022,\n",
              " 'logistic__penalty': 'l2',\n",
              " 'sfm__k': 9845,\n",
              " 'vectorizer__ngram_range': (1, 2)}"
            ]
          },
          "metadata": {
            "tags": []
          },
          "execution_count": 19
        }
      ]
    },
    {
      "cell_type": "code",
      "metadata": {
        "id": "ChFFEuwMeO7J"
      },
      "source": [
        "results = []"
      ],
      "execution_count": 20,
      "outputs": []
    },
    {
      "cell_type": "code",
      "metadata": {
        "colab": {
          "base_uri": "https://localhost:8080/"
        },
        "id": "MtNbYbyregZg",
        "outputId": "61ff15ff-dc08-460b-ce01-a2a03623ce54"
      },
      "source": [
        "print('Train Accuracy', accuracy_score(Y_data_train_2, search.predict(X_data_train)))\n",
        "print('Valid Accuracy', accuracy_score(Y_data_valid_2, search.predict(X_data_valid)))"
      ],
      "execution_count": 21,
      "outputs": [
        {
          "output_type": "stream",
          "text": [
            "Train Accuracy 0.7866567089868061\n",
            "Valid Accuracy 0.557070707070707\n"
          ],
          "name": "stdout"
        }
      ]
    },
    {
      "cell_type": "code",
      "metadata": {
        "id": "28rpNNjbeQhx"
      },
      "source": [
        "results.append(['Bag of Words - TFIDF',\n",
        "      accuracy_score(Y_data_train_2, search.predict(X_data_train)),\n",
        "      accuracy_score(Y_data_valid_2, search.predict(X_data_valid))\n",
        "])"
      ],
      "execution_count": 22,
      "outputs": []
    },
    {
      "cell_type": "markdown",
      "metadata": {
        "id": "j5-NgS-kifmz"
      },
      "source": [
        "## **Model 2 - Continuous Skipgram - Pre-Trained**"
      ]
    },
    {
      "cell_type": "markdown",
      "metadata": {
        "id": "StEBg51OnMmN"
      },
      "source": [
        "Pre-trained Continuous Skipgram Word Embedding for Brazilian Portuguese, with dimensionality of 50, downloaded from http://www.nilc.icmc.usp.br/nilc/index.php/repositorio-de-word-embeddings-do-nilc"
      ]
    },
    {
      "cell_type": "markdown",
      "metadata": {
        "id": "kO6kvkoCnvK1"
      },
      "source": [
        "Creating a dictionary from pre-trained word embedding, with words as keys, and word vectors as values."
      ]
    },
    {
      "cell_type": "code",
      "metadata": {
        "colab": {
          "base_uri": "https://localhost:8080/"
        },
        "id": "N4fs7ZGXh-jo",
        "outputId": "43ee6064-626c-4d7f-f0cb-4e097201d260"
      },
      "source": [
        "errors = []\n",
        "embeddings_index = {}\n",
        "f = open('/content/drive/My Drive/Data Master/skip_s50.txt')\n",
        "for line in f:\n",
        "    values = line.split()\n",
        "    word = values[0] #first element is the word\n",
        "    try:\n",
        "      coefs = np.asarray(values[1:], dtype='float32') #second element and on is the word vector\n",
        "    except:\n",
        "      errors.append(line)\n",
        "    embeddings_index[word] = coefs\n",
        "f.close()\n",
        "\n",
        "print('Found %s word vectors.' % len(embeddings_index))"
      ],
      "execution_count": 23,
      "outputs": [
        {
          "output_type": "stream",
          "text": [
            "Found 929595 word vectors.\n"
          ],
          "name": "stdout"
        }
      ]
    },
    {
      "cell_type": "code",
      "metadata": {
        "colab": {
          "base_uri": "https://localhost:8080/"
        },
        "id": "C3Tbjei6iDQO",
        "outputId": "2367ed0e-12b8-44bd-ffaf-f1f2a166d5b3"
      },
      "source": [
        "print(len(embeddings_index))\n",
        "print(len(errors))"
      ],
      "execution_count": 24,
      "outputs": [
        {
          "output_type": "stream",
          "text": [
            "929595\n",
            "4\n"
          ],
          "name": "stdout"
        }
      ]
    },
    {
      "cell_type": "markdown",
      "metadata": {
        "id": "s62kCA0YpKHV"
      },
      "source": [
        "Creating matrix to sum all vectors of a document (lyric)."
      ]
    },
    {
      "cell_type": "code",
      "metadata": {
        "id": "gZIRPnN5iJUe"
      },
      "source": [
        "EMBEDDING_DIM = 50\n",
        "errors_2 = []\n",
        "nomatchs = []\n",
        "\n",
        "X_train_matrix = np.zeros((len(X_data_train), EMBEDDING_DIM))\n",
        "X_valid_matrix = np.zeros((len(X_data_valid), EMBEDDING_DIM))"
      ],
      "execution_count": 25,
      "outputs": []
    },
    {
      "cell_type": "markdown",
      "metadata": {
        "id": "WeZ1zJkVseoL"
      },
      "source": [
        "Matching and summing all vector at matrix."
      ]
    },
    {
      "cell_type": "code",
      "metadata": {
        "id": "xslA3gkaiMDf"
      },
      "source": [
        "for i, x in enumerate(X_data_train):\n",
        "  for w in x.split():\n",
        "    embedding_vector = embeddings_index.get(w)\n",
        "    if embedding_vector is not None:\n",
        "        # words not found in embedding index will be all-zeros.\n",
        "        try:\n",
        "          X_train_matrix[i] += embedding_vector\n",
        "        except:\n",
        "          if [word, len(embedding_vector), embedding_vector] not in errors_2:\n",
        "            errors_2.append([word, len(embedding_vector), embedding_vector])\n",
        "    else:\n",
        "      if word not in nomatchs:\n",
        "        nomatchs.append(word)"
      ],
      "execution_count": 26,
      "outputs": []
    },
    {
      "cell_type": "code",
      "metadata": {
        "id": "ejcAzL5JiL4B"
      },
      "source": [
        "for i, x in enumerate(X_data_valid):\n",
        "  for w in x.split():\n",
        "    embedding_vector = embeddings_index.get(w)\n",
        "    if embedding_vector is not None:\n",
        "        # words not found in embedding index will be all-zeros.\n",
        "        try:\n",
        "          X_valid_matrix[i] += embedding_vector\n",
        "        except:\n",
        "          if [word, len(embedding_vector), embedding_vector] not in errors_2:\n",
        "            errors_2.append([word, len(embedding_vector), embedding_vector])\n",
        "    else:\n",
        "      if word not in nomatchs:\n",
        "        nomatchs.append(word)"
      ],
      "execution_count": 27,
      "outputs": []
    },
    {
      "cell_type": "markdown",
      "metadata": {
        "id": "DzGCueQ4rAQ_"
      },
      "source": [
        "No match words at pre-trained word embedding."
      ]
    },
    {
      "cell_type": "code",
      "metadata": {
        "colab": {
          "base_uri": "https://localhost:8080/"
        },
        "id": "sq8c1trboqB5",
        "outputId": "f17163fd-6bd2-49aa-c71f-7393384e23bb"
      },
      "source": [
        "errors_2"
      ],
      "execution_count": 28,
      "outputs": [
        {
          "output_type": "execute_result",
          "data": {
            "text/plain": [
              "[['sentar-se-ia',\n",
              "  51,\n",
              "  array([ 0.      , -0.044833, -0.029979,  0.076439, -0.042523,  0.01291 ,\n",
              "          0.067435, -0.121602,  0.040566, -0.040576, -0.031136, -0.014103,\n",
              "         -0.10282 ,  0.110358,  0.057216,  0.069584,  0.004213,  0.003828,\n",
              "          0.092477,  0.058995,  0.017613, -0.098365,  0.072649, -0.113315,\n",
              "         -0.056719, -0.088877, -0.05544 , -0.003072, -0.028924, -0.15866 ,\n",
              "         -0.033957,  0.090694,  0.016345, -0.018447,  0.135893, -0.024989,\n",
              "          0.081702,  0.029871,  0.11887 ,  0.042139,  0.005366, -0.025255,\n",
              "         -0.008088,  0.000869, -0.024878, -0.009964, -0.070131,  0.116469,\n",
              "          0.130658,  0.023669, -0.087427], dtype=float32)]]"
            ]
          },
          "metadata": {
            "tags": []
          },
          "execution_count": 28
        }
      ]
    },
    {
      "cell_type": "code",
      "metadata": {
        "colab": {
          "base_uri": "https://localhost:8080/"
        },
        "id": "BNJCqAfaoqvm",
        "outputId": "ac1474d7-9bf1-408f-c7ea-622e0e5d8d26"
      },
      "source": [
        "nomatchs"
      ],
      "execution_count": 29,
      "outputs": [
        {
          "output_type": "execute_result",
          "data": {
            "text/plain": [
              "['sentar-se-ia']"
            ]
          },
          "metadata": {
            "tags": []
          },
          "execution_count": 29
        }
      ]
    },
    {
      "cell_type": "code",
      "metadata": {
        "colab": {
          "base_uri": "https://localhost:8080/"
        },
        "id": "LmA85K47iSCQ",
        "outputId": "d0b5df2d-43f9-4eea-af6d-86341c88ae9d"
      },
      "source": [
        "X_train_matrix.shape"
      ],
      "execution_count": 30,
      "outputs": [
        {
          "output_type": "execute_result",
          "data": {
            "text/plain": [
              "(4017, 50)"
            ]
          },
          "metadata": {
            "tags": []
          },
          "execution_count": 30
        }
      ]
    },
    {
      "cell_type": "code",
      "metadata": {
        "colab": {
          "base_uri": "https://localhost:8080/"
        },
        "id": "taCLUvZgr2xW",
        "outputId": "f8617fa8-150f-4652-dafe-6457c4a52df4"
      },
      "source": [
        "X_valid_matrix.shape"
      ],
      "execution_count": 31,
      "outputs": [
        {
          "output_type": "execute_result",
          "data": {
            "text/plain": [
              "(1980, 50)"
            ]
          },
          "metadata": {
            "tags": []
          },
          "execution_count": 31
        }
      ]
    },
    {
      "cell_type": "markdown",
      "metadata": {
        "id": "wnjzA8FSrQCT"
      },
      "source": [
        "Defining domain for parameter tuning of regularization penalty (l1 and l2) and strengh (C)."
      ]
    },
    {
      "cell_type": "code",
      "metadata": {
        "id": "kpG5sNVlJZQD"
      },
      "source": [
        "param_dist = dict(logistic__C=uniform(loc=0, scale=4),\n",
        "                  logistic__penalty=['l2', 'l1'])"
      ],
      "execution_count": 32,
      "outputs": []
    },
    {
      "cell_type": "markdown",
      "metadata": {
        "id": "ZjxFj7PWrhqw"
      },
      "source": [
        "Defining a Pipeline to tune Logistic Regression, via Randomized Search."
      ]
    },
    {
      "cell_type": "code",
      "metadata": {
        "colab": {
          "base_uri": "https://localhost:8080/"
        },
        "id": "sWi1kh1XJNsk",
        "outputId": "681f818c-4175-4b2b-be05-9ba3f4b7498a"
      },
      "source": [
        "# create pipeline with a scaler \n",
        "steps = []\n",
        "steps.append(('scaler', StandardScaler()))\n",
        "steps.append(('logistic', LogisticRegression(solver='liblinear', max_iter=200, random_state=12345)))\n",
        "pipeline = Pipeline(steps)\n",
        "\n",
        "# do search\n",
        "search = RandomizedSearchCV(pipeline, param_distributions=param_dist)\n",
        "search.fit(X_train_matrix, Y_data_train_2)"
      ],
      "execution_count": 33,
      "outputs": [
        {
          "output_type": "execute_result",
          "data": {
            "text/plain": [
              "RandomizedSearchCV(cv=None, error_score=nan,\n",
              "                   estimator=Pipeline(memory=None,\n",
              "                                      steps=[('scaler',\n",
              "                                              StandardScaler(copy=True,\n",
              "                                                             with_mean=True,\n",
              "                                                             with_std=True)),\n",
              "                                             ('logistic',\n",
              "                                              LogisticRegression(C=1.0,\n",
              "                                                                 class_weight=None,\n",
              "                                                                 dual=False,\n",
              "                                                                 fit_intercept=True,\n",
              "                                                                 intercept_scaling=1,\n",
              "                                                                 l1_ratio=None,\n",
              "                                                                 max_iter=200,\n",
              "                                                                 multi_class='auto',\n",
              "                                                                 n_jobs=None,\n",
              "                                                                 penalty='l2',\n",
              "                                                                 random_state=12345,\n",
              "                                                                 solver='liblinear',\n",
              "                                                                 tol=0.0001,\n",
              "                                                                 verbose=0,\n",
              "                                                                 warm_start=False))],\n",
              "                                      verbose=False),\n",
              "                   iid='deprecated', n_iter=10, n_jobs=None,\n",
              "                   param_distributions={'logistic__C': <scipy.stats._distn_infrastructure.rv_frozen object at 0x7f50c9c3d630>,\n",
              "                                        'logistic__penalty': ['l2', 'l1']},\n",
              "                   pre_dispatch='2*n_jobs', random_state=None, refit=True,\n",
              "                   return_train_score=False, scoring=None, verbose=0)"
            ]
          },
          "metadata": {
            "tags": []
          },
          "execution_count": 33
        }
      ]
    },
    {
      "cell_type": "code",
      "metadata": {
        "colab": {
          "base_uri": "https://localhost:8080/"
        },
        "id": "IlhAg_TCe74r",
        "outputId": "78f6bac7-306c-451d-d105-7a40899f8ee5"
      },
      "source": [
        "print('Train Accuracy', accuracy_score(Y_data_train_2, search.predict(X_train_matrix)))\n",
        "print('Valid Accuracy', accuracy_score(Y_data_valid_2, search.predict(X_valid_matrix)))"
      ],
      "execution_count": 34,
      "outputs": [
        {
          "output_type": "stream",
          "text": [
            "Train Accuracy 0.4625342295245208\n",
            "Valid Accuracy 0.43333333333333335\n"
          ],
          "name": "stdout"
        }
      ]
    },
    {
      "cell_type": "code",
      "metadata": {
        "id": "FpNH_9_Ge_1d"
      },
      "source": [
        "results.append(['Skipgram - Pre-Trained',\n",
        "      accuracy_score(Y_data_train_2, search.predict(X_train_matrix)),\n",
        "      accuracy_score(Y_data_valid_2, search.predict(X_valid_matrix))\n",
        "])"
      ],
      "execution_count": 35,
      "outputs": []
    },
    {
      "cell_type": "markdown",
      "metadata": {
        "id": "rlNUw4hkKf_5"
      },
      "source": [
        "## **Model 3 - Continuous Skipgram - Task-Specific**"
      ]
    },
    {
      "cell_type": "markdown",
      "metadata": {
        "id": "6kZzc4UPrthz"
      },
      "source": [
        "Trying to train an specific Continuous Skipgram model, with present lyrics corpus, through gensim package."
      ]
    },
    {
      "cell_type": "code",
      "metadata": {
        "id": "FEnhv2rLKf_6"
      },
      "source": [
        "from gensim.models import Word2Vec"
      ],
      "execution_count": 36,
      "outputs": []
    },
    {
      "cell_type": "markdown",
      "metadata": {
        "id": "C2yuGlpJsELw"
      },
      "source": [
        "Training a Continuous Skipgram model with dimension size 50, context window size 5."
      ]
    },
    {
      "cell_type": "code",
      "metadata": {
        "id": "CU_Yx8J8Kf_6"
      },
      "source": [
        "model = Word2Vec(sentences=[sentence.split() for sentence in X_data_train], size=50, window=5, min_count=1, workers=4, sg=1)"
      ],
      "execution_count": 37,
      "outputs": []
    },
    {
      "cell_type": "markdown",
      "metadata": {
        "id": "XT4n9KxisrOi"
      },
      "source": [
        "Creating matrix to sum all vectors of a document (lyric)."
      ]
    },
    {
      "cell_type": "code",
      "metadata": {
        "id": "KSfZZjNEKf_6"
      },
      "source": [
        "EMBEDDING_DIM = 50\n",
        "errors_2 = []\n",
        "nomatchs = []\n",
        "\n",
        "X_train_matrix = np.zeros((len(X_data_train), EMBEDDING_DIM))\n",
        "X_valid_matrix = np.zeros((len(X_data_valid), EMBEDDING_DIM))"
      ],
      "execution_count": 38,
      "outputs": []
    },
    {
      "cell_type": "markdown",
      "metadata": {
        "id": "BNAAuE_NsvnE"
      },
      "source": [
        "Matching and summing all vector at matrix."
      ]
    },
    {
      "cell_type": "code",
      "metadata": {
        "id": "inXJTSSJKf_6"
      },
      "source": [
        "for i, x in enumerate(X_data_train):\n",
        "  for w in x.split():\n",
        "    if w in model.wv:\n",
        "      embedding_vector = model.wv[w]\n",
        "      try:\n",
        "        X_train_matrix[i] += embedding_vector\n",
        "      except:\n",
        "        errors_2.append([word, len(embedding_vector), embedding_vector])\n",
        "    else:\n",
        "      nomatchs.append(word)"
      ],
      "execution_count": 39,
      "outputs": []
    },
    {
      "cell_type": "code",
      "metadata": {
        "id": "5iGl9fWhKf_6"
      },
      "source": [
        "for i, x in enumerate(X_data_valid):\n",
        "  for w in x.split():\n",
        "    if w in model.wv:\n",
        "      embedding_vector = model.wv[w]\n",
        "      try:\n",
        "        X_valid_matrix[i] += embedding_vector\n",
        "      except:\n",
        "        errors_2.append([word, len(embedding_vector), embedding_vector])\n",
        "    else:\n",
        "      nomatchs.append(word)"
      ],
      "execution_count": 40,
      "outputs": []
    },
    {
      "cell_type": "code",
      "metadata": {
        "colab": {
          "base_uri": "https://localhost:8080/"
        },
        "id": "zebANyK5Kf_6",
        "outputId": "9a6505b2-9cae-4763-ae9e-be4ce0e8c460"
      },
      "source": [
        "X_train_matrix.shape"
      ],
      "execution_count": 41,
      "outputs": [
        {
          "output_type": "execute_result",
          "data": {
            "text/plain": [
              "(4017, 50)"
            ]
          },
          "metadata": {
            "tags": []
          },
          "execution_count": 41
        }
      ]
    },
    {
      "cell_type": "code",
      "metadata": {
        "colab": {
          "base_uri": "https://localhost:8080/"
        },
        "id": "afyPaQnFKf_7",
        "outputId": "1710f0e9-3cc8-4a66-8e2c-4c741158bbb1"
      },
      "source": [
        "X_valid_matrix.shape"
      ],
      "execution_count": 42,
      "outputs": [
        {
          "output_type": "execute_result",
          "data": {
            "text/plain": [
              "(1980, 50)"
            ]
          },
          "metadata": {
            "tags": []
          },
          "execution_count": 42
        }
      ]
    },
    {
      "cell_type": "markdown",
      "metadata": {
        "id": "pQuiivtJs0F6"
      },
      "source": [
        "Defining domain for parameter tuning of regularization penalty (l1 and l2) and strengh (C)."
      ]
    },
    {
      "cell_type": "code",
      "metadata": {
        "id": "dldI0Rx7Kf_7"
      },
      "source": [
        "param_dist = dict(logistic__C=uniform(loc=0, scale=4),\n",
        "                  logistic__penalty=['l2', 'l1'])"
      ],
      "execution_count": 43,
      "outputs": []
    },
    {
      "cell_type": "markdown",
      "metadata": {
        "id": "iICy0r5ws4ft"
      },
      "source": [
        "Defining a Pipeline to tune Logistic Regression, via Randomized Search."
      ]
    },
    {
      "cell_type": "code",
      "metadata": {
        "colab": {
          "base_uri": "https://localhost:8080/"
        },
        "id": "sVjLXCmjKf_7",
        "outputId": "2241410a-6bcc-4a12-dc42-be99719b3839"
      },
      "source": [
        "# create pipeline with a scaler \n",
        "steps = []\n",
        "steps.append(('scaler', StandardScaler()))\n",
        "steps.append(('logistic', LogisticRegression(solver='liblinear', max_iter=200, random_state=12345)))\n",
        "pipeline = Pipeline(steps)\n",
        "\n",
        "# do search\n",
        "search = RandomizedSearchCV(pipeline, param_distributions=param_dist)\n",
        "search.fit(X_train_matrix, Y_data_train_2)"
      ],
      "execution_count": 44,
      "outputs": [
        {
          "output_type": "execute_result",
          "data": {
            "text/plain": [
              "RandomizedSearchCV(cv=None, error_score=nan,\n",
              "                   estimator=Pipeline(memory=None,\n",
              "                                      steps=[('scaler',\n",
              "                                              StandardScaler(copy=True,\n",
              "                                                             with_mean=True,\n",
              "                                                             with_std=True)),\n",
              "                                             ('logistic',\n",
              "                                              LogisticRegression(C=1.0,\n",
              "                                                                 class_weight=None,\n",
              "                                                                 dual=False,\n",
              "                                                                 fit_intercept=True,\n",
              "                                                                 intercept_scaling=1,\n",
              "                                                                 l1_ratio=None,\n",
              "                                                                 max_iter=200,\n",
              "                                                                 multi_class='auto',\n",
              "                                                                 n_jobs=None,\n",
              "                                                                 penalty='l2',\n",
              "                                                                 random_state=12345,\n",
              "                                                                 solver='liblinear',\n",
              "                                                                 tol=0.0001,\n",
              "                                                                 verbose=0,\n",
              "                                                                 warm_start=False))],\n",
              "                                      verbose=False),\n",
              "                   iid='deprecated', n_iter=10, n_jobs=None,\n",
              "                   param_distributions={'logistic__C': <scipy.stats._distn_infrastructure.rv_frozen object at 0x7f50bb7dbcf8>,\n",
              "                                        'logistic__penalty': ['l2', 'l1']},\n",
              "                   pre_dispatch='2*n_jobs', random_state=None, refit=True,\n",
              "                   return_train_score=False, scoring=None, verbose=0)"
            ]
          },
          "metadata": {
            "tags": []
          },
          "execution_count": 44
        }
      ]
    },
    {
      "cell_type": "code",
      "metadata": {
        "colab": {
          "base_uri": "https://localhost:8080/"
        },
        "id": "rbUi4FxDfZXO",
        "outputId": "4d22a61e-3c9e-4f01-8230-2d8e4589d0c8"
      },
      "source": [
        "print('Train Accuracy', accuracy_score(Y_data_train_2, search.predict(X_train_matrix)))\n",
        "print('Valid Accuracy', accuracy_score(Y_data_valid_2, search.predict(X_valid_matrix)))"
      ],
      "execution_count": 45,
      "outputs": [
        {
          "output_type": "stream",
          "text": [
            "Train Accuracy 0.5053522529250685\n",
            "Valid Accuracy 0.48434343434343435\n"
          ],
          "name": "stdout"
        }
      ]
    },
    {
      "cell_type": "code",
      "metadata": {
        "id": "3VOEvP6_fdmI"
      },
      "source": [
        "results.append(['Skipgram - Task-Specific',\n",
        "      accuracy_score(Y_data_train_2, search.predict(X_train_matrix)),\n",
        "      accuracy_score(Y_data_valid_2, search.predict(X_valid_matrix))\n",
        "])"
      ],
      "execution_count": 46,
      "outputs": []
    },
    {
      "cell_type": "markdown",
      "metadata": {
        "id": "xGk8Nu8siS6N"
      },
      "source": [
        "## **Model 4 - BERT**"
      ]
    },
    {
      "cell_type": "markdown",
      "metadata": {
        "id": "9Ru4W8c0s9Pm"
      },
      "source": [
        "Specifying device (CUDA if available, CPU otherwise)."
      ]
    },
    {
      "cell_type": "code",
      "metadata": {
        "id": "f2nmGlPfYYqi"
      },
      "source": [
        "device = torch.device(\"cuda\" if torch.cuda.is_available() else \"cpu\")"
      ],
      "execution_count": 47,
      "outputs": []
    },
    {
      "cell_type": "markdown",
      "metadata": {
        "id": "a4UcBNo1Y9H5"
      },
      "source": [
        "### **Importing Pre-Trained Model**"
      ]
    },
    {
      "cell_type": "markdown",
      "metadata": {
        "id": "7TQFCGu8tUaE"
      },
      "source": [
        "Pre-trained BERT model for Brazilian Portuguese (BERTimbau), downloaded from https://github.com/neuralmind-ai/portuguese-bert"
      ]
    },
    {
      "cell_type": "code",
      "metadata": {
        "colab": {
          "base_uri": "https://localhost:8080/"
        },
        "id": "IWeN9tbFYbQ-",
        "outputId": "8640c008-f0f7-43e0-d5c6-c6b90be73ada"
      },
      "source": [
        "bert_tokenizer = AutoTokenizer.from_pretrained('neuralmind/bert-base-portuguese-cased', )\n",
        "#bert_model = BertForSequenceClassification.from_pretrained('neuralmind/bert-large-portuguese-cased').to(device)\n",
        "bert_model = BertForSequenceClassification.from_pretrained(\n",
        "    'neuralmind/bert-base-portuguese-cased', # Use the 12-layer BERT model, with an uncased vocab. \n",
        "    num_labels = 6, # The number of output labels--2 for binary classification.\n",
        "                    # You can increase this for multi-class tasks.  \n",
        "    output_attentions = False, # Whether the model returns attentions weights.\n",
        "    output_hidden_states = False, # Whether the model returns all hidden-states.\n",
        ")"
      ],
      "execution_count": 48,
      "outputs": [
        {
          "output_type": "stream",
          "text": [
            "Some weights of the model checkpoint at neuralmind/bert-base-portuguese-cased were not used when initializing BertForSequenceClassification: ['cls.predictions.bias', 'cls.predictions.transform.dense.weight', 'cls.predictions.transform.dense.bias', 'cls.predictions.transform.LayerNorm.weight', 'cls.predictions.transform.LayerNorm.bias', 'cls.predictions.decoder.weight', 'cls.seq_relationship.weight', 'cls.seq_relationship.bias']\n",
            "- This IS expected if you are initializing BertForSequenceClassification from the checkpoint of a model trained on another task or with another architecture (e.g. initializing a BertForSequenceClassification model from a BertForPreTraining model).\n",
            "- This IS NOT expected if you are initializing BertForSequenceClassification from the checkpoint of a model that you expect to be exactly identical (initializing a BertForSequenceClassification model from a BertForSequenceClassification model).\n",
            "Some weights of BertForSequenceClassification were not initialized from the model checkpoint at neuralmind/bert-base-portuguese-cased and are newly initialized: ['classifier.weight', 'classifier.bias']\n",
            "You should probably TRAIN this model on a down-stream task to be able to use it for predictions and inference.\n"
          ],
          "name": "stderr"
        }
      ]
    },
    {
      "cell_type": "markdown",
      "metadata": {
        "id": "P56YiqoYYwzh"
      },
      "source": [
        "### **Data Preparation**"
      ]
    },
    {
      "cell_type": "markdown",
      "metadata": {
        "id": "C3ZiGk60t4py"
      },
      "source": [
        "Tokenizing all sentences with BERT Model, adding initial [CLS] token and [PAD] tokens at the sentence ending, and also making sentence truncation whenever necessary. The resultant sentence list will be in tensor format."
      ]
    },
    {
      "cell_type": "code",
      "metadata": {
        "colab": {
          "base_uri": "https://localhost:8080/",
          "height": 66,
          "referenced_widgets": [
            "59266648fd084ab196f5fecfe235e0fb",
            "744538fcb2fc4697bdaa9810ed0278d3",
            "b4eecccf13c444a69955e49af7e027c9",
            "d18f2cea2603485c8d4c17fec2e6a7f8",
            "f8a2abfd54364dfb8f2deec4a08c1283",
            "c8129c9a66fb4ec08249db8ff52b2fe9",
            "3645fbdc38d34f35b7cbbad7085628f7",
            "e70a8fe8eb88453da51329ffde4ceb97"
          ]
        },
        "id": "sfFwV3lSfIS3",
        "outputId": "b99ab2e6-70df-43aa-df15-6c701574f39d"
      },
      "source": [
        "# Tokenize all of the sentences and map the tokens to thier word IDs.\n",
        "input_ids_train = []\n",
        "attention_masks_train = []\n",
        "\n",
        "# For every sentence...\n",
        "for lyric in tqdm.notebook.tqdm(data_train):\n",
        "    # `encode_plus` will:\n",
        "    #   (1) Tokenize the sentence.\n",
        "    #   (2) Prepend the `[CLS]` token to the start.\n",
        "    #   (3) Append the `[SEP]` token to the end.\n",
        "    #   (4) Map tokens to their IDs.\n",
        "    #   (5) Pad or truncate the sentence to `max_length`\n",
        "    #   (6) Create attention masks for [PAD] tokens.\n",
        "    sent = lyric[2]\n",
        "    encoded_dict = bert_tokenizer.encode_plus(\n",
        "                        sent, # Sentence A to encode.                 \n",
        "                        add_special_tokens = True, # Add '[CLS]' and '[SEP]'\n",
        "                        max_length = 512,           # Pad & truncate all sentences.\n",
        "                        padding='max_length',\n",
        "                        return_attention_mask = True,   # Construct attn. masks.\n",
        "                        return_tensors = 'pt',     # Return pytorch tensors.\n",
        "                        truncation=True\n",
        "                   )\n",
        "    \n",
        "    # Add the encoded sentence to the list.    \n",
        "    input_ids_train.append(encoded_dict['input_ids'])\n",
        "    \n",
        "    # And its attention mask (simply differentiates padding from non-padding).\n",
        "    attention_masks_train.append(encoded_dict['attention_mask'])\n",
        "\n",
        "\n",
        "# Convert the lists into tensors.\n",
        "input_ids_train = torch.cat(input_ids_train, dim=0)\n",
        "attention_masks_train = torch.cat(attention_masks_train, dim=0)"
      ],
      "execution_count": 49,
      "outputs": [
        {
          "output_type": "display_data",
          "data": {
            "application/vnd.jupyter.widget-view+json": {
              "model_id": "59266648fd084ab196f5fecfe235e0fb",
              "version_minor": 0,
              "version_major": 2
            },
            "text/plain": [
              "HBox(children=(FloatProgress(value=0.0, max=4017.0), HTML(value='')))"
            ]
          },
          "metadata": {
            "tags": []
          }
        },
        {
          "output_type": "stream",
          "text": [
            "\n"
          ],
          "name": "stdout"
        }
      ]
    },
    {
      "cell_type": "code",
      "metadata": {
        "colab": {
          "base_uri": "https://localhost:8080/",
          "height": 66,
          "referenced_widgets": [
            "b028ef1613b043ecb65c9da507c27ac6",
            "ce20dd94bde6460080bb142b2370af25",
            "08b700b37baa476eaf7487d64a538e72",
            "f2cf07e1b40049eb88bb41657e9b3a11",
            "96f172e58a61475cba982fb82640e75a",
            "d3ee42182804435ca6c742e5dac0b1f2",
            "dd692e5052c74d4eb1e44925f04cd28a",
            "ce2ca5e72f6342c0872927235ee9a168"
          ]
        },
        "id": "UEYK--6qx2qh",
        "outputId": "76483a3d-e515-4e0b-e5fb-be60cfb6adb5"
      },
      "source": [
        "# Tokenize all of the sentences and map the tokens to thier word IDs.\n",
        "input_ids_valid = []\n",
        "attention_masks_valid = []\n",
        "\n",
        "# For every sentence...\n",
        "for lyric in tqdm.notebook.tqdm(data_valid):\n",
        "    # `encode_plus` will:\n",
        "    #   (1) Tokenize the sentence.\n",
        "    #   (2) Prepend the `[CLS]` token to the start.\n",
        "    #   (3) Append the `[SEP]` token to the end.\n",
        "    #   (4) Map tokens to their IDs.\n",
        "    #   (5) Pad or truncate the sentence to `max_length`\n",
        "    #   (6) Create attention masks for [PAD] tokens.\n",
        "    sent = lyric[2]\n",
        "    encoded_dict = bert_tokenizer.encode_plus(\n",
        "                        sent, # Sentence to encode.                     \n",
        "                        add_special_tokens = True, # Add '[CLS]' and '[SEP]'\n",
        "                        max_length = 512,           # Pad & truncate all sentences.\n",
        "                        padding='max_length',\n",
        "                        return_attention_mask = True,   # Construct attn. masks.\n",
        "                        return_tensors = 'pt',     # Return pytorch tensors.\n",
        "                        truncation=True\n",
        "                   )\n",
        "    \n",
        "    # Add the encoded sentence to the list.    \n",
        "    input_ids_valid.append(encoded_dict['input_ids'])\n",
        "    \n",
        "    # And its attention mask (simply differentiates padding from non-padding).\n",
        "    attention_masks_valid.append(encoded_dict['attention_mask'])\n",
        "\n",
        "# Convert the lists into tensors.\n",
        "input_ids_valid = torch.cat(input_ids_valid, dim=0)\n",
        "attention_masks_valid = torch.cat(attention_masks_valid, dim=0)"
      ],
      "execution_count": 50,
      "outputs": [
        {
          "output_type": "display_data",
          "data": {
            "application/vnd.jupyter.widget-view+json": {
              "model_id": "b028ef1613b043ecb65c9da507c27ac6",
              "version_minor": 0,
              "version_major": 2
            },
            "text/plain": [
              "HBox(children=(FloatProgress(value=0.0, max=1980.0), HTML(value='')))"
            ]
          },
          "metadata": {
            "tags": []
          }
        },
        {
          "output_type": "stream",
          "text": [
            "\n"
          ],
          "name": "stdout"
        }
      ]
    },
    {
      "cell_type": "markdown",
      "metadata": {
        "id": "cYssKDUduovF"
      },
      "source": [
        "Converting labels do tensors."
      ]
    },
    {
      "cell_type": "code",
      "metadata": {
        "id": "pWS5eveSVa4n"
      },
      "source": [
        "labels_train = torch.tensor(Y_data_train_2)\n",
        "labels_valid = torch.tensor(Y_data_valid_2)"
      ],
      "execution_count": 51,
      "outputs": []
    },
    {
      "cell_type": "code",
      "metadata": {
        "colab": {
          "base_uri": "https://localhost:8080/"
        },
        "id": "MY5obygOV95b",
        "outputId": "a98030f3-0aa9-420d-99ad-a72117e5a66e"
      },
      "source": [
        "input_ids_train.shape"
      ],
      "execution_count": 52,
      "outputs": [
        {
          "output_type": "execute_result",
          "data": {
            "text/plain": [
              "torch.Size([4017, 512])"
            ]
          },
          "metadata": {
            "tags": []
          },
          "execution_count": 52
        }
      ]
    },
    {
      "cell_type": "code",
      "metadata": {
        "colab": {
          "base_uri": "https://localhost:8080/"
        },
        "id": "_CnHbwoHV9z3",
        "outputId": "5984626e-5fc4-45cb-f9bc-11acf77dffd2"
      },
      "source": [
        "labels_train.shape"
      ],
      "execution_count": 53,
      "outputs": [
        {
          "output_type": "execute_result",
          "data": {
            "text/plain": [
              "torch.Size([4017])"
            ]
          },
          "metadata": {
            "tags": []
          },
          "execution_count": 53
        }
      ]
    },
    {
      "cell_type": "markdown",
      "metadata": {
        "id": "GhNij2fAwOj4"
      },
      "source": [
        "Creating tensor data sets."
      ]
    },
    {
      "cell_type": "code",
      "metadata": {
        "id": "ZyYKACb6yNYv"
      },
      "source": [
        "from torch.utils.data import TensorDataset"
      ],
      "execution_count": 54,
      "outputs": []
    },
    {
      "cell_type": "code",
      "metadata": {
        "id": "OIBQ3lYAyP2Z"
      },
      "source": [
        "train_dataset = TensorDataset(input_ids_train, attention_masks_train, labels_train)\n",
        "valid_dataset = TensorDataset(input_ids_valid, attention_masks_valid, labels_valid)"
      ],
      "execution_count": 55,
      "outputs": []
    },
    {
      "cell_type": "code",
      "metadata": {
        "id": "_ZurmhwTySwL"
      },
      "source": [
        "from torch.utils.data import DataLoader, RandomSampler, SequentialSampler\n",
        "\n",
        "batch_size = 12\n",
        "\n",
        "# Create the DataLoaders for our training and validation sets.\n",
        "train_dataloader = DataLoader(\n",
        "            train_dataset,  # The training samples.\n",
        "            sampler = RandomSampler(train_dataset), # Select batches randomly, to train in a random order.\n",
        "            batch_size = batch_size # Trains with this batch size.\n",
        "        )\n",
        "\n",
        "validation_dataloader = DataLoader(\n",
        "            valid_dataset, # The validation samples.\n",
        "            sampler = SequentialSampler(valid_dataset), # For validation, it doesn't matter the order, so we'll read batches sequentially.\n",
        "            batch_size = batch_size # Evaluate with this batch size.\n",
        "        )"
      ],
      "execution_count": 56,
      "outputs": []
    },
    {
      "cell_type": "markdown",
      "metadata": {
        "id": "66Ezv1mEZWEV"
      },
      "source": [
        "### **Fine Tuning - BertForSequenceClassification**"
      ]
    },
    {
      "cell_type": "code",
      "metadata": {
        "colab": {
          "base_uri": "https://localhost:8080/"
        },
        "id": "rv1owFT_yV_c",
        "outputId": "c520107e-5519-4e7f-a705-4e63c31759dc"
      },
      "source": [
        "from transformers import AdamW, BertConfig\n",
        "# Tell pytorch to run this model on the GPU.\n",
        "bert_model.to(device)"
      ],
      "execution_count": 57,
      "outputs": [
        {
          "output_type": "execute_result",
          "data": {
            "text/plain": [
              "BertForSequenceClassification(\n",
              "  (bert): BertModel(\n",
              "    (embeddings): BertEmbeddings(\n",
              "      (word_embeddings): Embedding(29794, 768, padding_idx=0)\n",
              "      (position_embeddings): Embedding(512, 768)\n",
              "      (token_type_embeddings): Embedding(2, 768)\n",
              "      (LayerNorm): LayerNorm((768,), eps=1e-12, elementwise_affine=True)\n",
              "      (dropout): Dropout(p=0.1, inplace=False)\n",
              "    )\n",
              "    (encoder): BertEncoder(\n",
              "      (layer): ModuleList(\n",
              "        (0): BertLayer(\n",
              "          (attention): BertAttention(\n",
              "            (self): BertSelfAttention(\n",
              "              (query): Linear(in_features=768, out_features=768, bias=True)\n",
              "              (key): Linear(in_features=768, out_features=768, bias=True)\n",
              "              (value): Linear(in_features=768, out_features=768, bias=True)\n",
              "              (dropout): Dropout(p=0.1, inplace=False)\n",
              "            )\n",
              "            (output): BertSelfOutput(\n",
              "              (dense): Linear(in_features=768, out_features=768, bias=True)\n",
              "              (LayerNorm): LayerNorm((768,), eps=1e-12, elementwise_affine=True)\n",
              "              (dropout): Dropout(p=0.1, inplace=False)\n",
              "            )\n",
              "          )\n",
              "          (intermediate): BertIntermediate(\n",
              "            (dense): Linear(in_features=768, out_features=3072, bias=True)\n",
              "          )\n",
              "          (output): BertOutput(\n",
              "            (dense): Linear(in_features=3072, out_features=768, bias=True)\n",
              "            (LayerNorm): LayerNorm((768,), eps=1e-12, elementwise_affine=True)\n",
              "            (dropout): Dropout(p=0.1, inplace=False)\n",
              "          )\n",
              "        )\n",
              "        (1): BertLayer(\n",
              "          (attention): BertAttention(\n",
              "            (self): BertSelfAttention(\n",
              "              (query): Linear(in_features=768, out_features=768, bias=True)\n",
              "              (key): Linear(in_features=768, out_features=768, bias=True)\n",
              "              (value): Linear(in_features=768, out_features=768, bias=True)\n",
              "              (dropout): Dropout(p=0.1, inplace=False)\n",
              "            )\n",
              "            (output): BertSelfOutput(\n",
              "              (dense): Linear(in_features=768, out_features=768, bias=True)\n",
              "              (LayerNorm): LayerNorm((768,), eps=1e-12, elementwise_affine=True)\n",
              "              (dropout): Dropout(p=0.1, inplace=False)\n",
              "            )\n",
              "          )\n",
              "          (intermediate): BertIntermediate(\n",
              "            (dense): Linear(in_features=768, out_features=3072, bias=True)\n",
              "          )\n",
              "          (output): BertOutput(\n",
              "            (dense): Linear(in_features=3072, out_features=768, bias=True)\n",
              "            (LayerNorm): LayerNorm((768,), eps=1e-12, elementwise_affine=True)\n",
              "            (dropout): Dropout(p=0.1, inplace=False)\n",
              "          )\n",
              "        )\n",
              "        (2): BertLayer(\n",
              "          (attention): BertAttention(\n",
              "            (self): BertSelfAttention(\n",
              "              (query): Linear(in_features=768, out_features=768, bias=True)\n",
              "              (key): Linear(in_features=768, out_features=768, bias=True)\n",
              "              (value): Linear(in_features=768, out_features=768, bias=True)\n",
              "              (dropout): Dropout(p=0.1, inplace=False)\n",
              "            )\n",
              "            (output): BertSelfOutput(\n",
              "              (dense): Linear(in_features=768, out_features=768, bias=True)\n",
              "              (LayerNorm): LayerNorm((768,), eps=1e-12, elementwise_affine=True)\n",
              "              (dropout): Dropout(p=0.1, inplace=False)\n",
              "            )\n",
              "          )\n",
              "          (intermediate): BertIntermediate(\n",
              "            (dense): Linear(in_features=768, out_features=3072, bias=True)\n",
              "          )\n",
              "          (output): BertOutput(\n",
              "            (dense): Linear(in_features=3072, out_features=768, bias=True)\n",
              "            (LayerNorm): LayerNorm((768,), eps=1e-12, elementwise_affine=True)\n",
              "            (dropout): Dropout(p=0.1, inplace=False)\n",
              "          )\n",
              "        )\n",
              "        (3): BertLayer(\n",
              "          (attention): BertAttention(\n",
              "            (self): BertSelfAttention(\n",
              "              (query): Linear(in_features=768, out_features=768, bias=True)\n",
              "              (key): Linear(in_features=768, out_features=768, bias=True)\n",
              "              (value): Linear(in_features=768, out_features=768, bias=True)\n",
              "              (dropout): Dropout(p=0.1, inplace=False)\n",
              "            )\n",
              "            (output): BertSelfOutput(\n",
              "              (dense): Linear(in_features=768, out_features=768, bias=True)\n",
              "              (LayerNorm): LayerNorm((768,), eps=1e-12, elementwise_affine=True)\n",
              "              (dropout): Dropout(p=0.1, inplace=False)\n",
              "            )\n",
              "          )\n",
              "          (intermediate): BertIntermediate(\n",
              "            (dense): Linear(in_features=768, out_features=3072, bias=True)\n",
              "          )\n",
              "          (output): BertOutput(\n",
              "            (dense): Linear(in_features=3072, out_features=768, bias=True)\n",
              "            (LayerNorm): LayerNorm((768,), eps=1e-12, elementwise_affine=True)\n",
              "            (dropout): Dropout(p=0.1, inplace=False)\n",
              "          )\n",
              "        )\n",
              "        (4): BertLayer(\n",
              "          (attention): BertAttention(\n",
              "            (self): BertSelfAttention(\n",
              "              (query): Linear(in_features=768, out_features=768, bias=True)\n",
              "              (key): Linear(in_features=768, out_features=768, bias=True)\n",
              "              (value): Linear(in_features=768, out_features=768, bias=True)\n",
              "              (dropout): Dropout(p=0.1, inplace=False)\n",
              "            )\n",
              "            (output): BertSelfOutput(\n",
              "              (dense): Linear(in_features=768, out_features=768, bias=True)\n",
              "              (LayerNorm): LayerNorm((768,), eps=1e-12, elementwise_affine=True)\n",
              "              (dropout): Dropout(p=0.1, inplace=False)\n",
              "            )\n",
              "          )\n",
              "          (intermediate): BertIntermediate(\n",
              "            (dense): Linear(in_features=768, out_features=3072, bias=True)\n",
              "          )\n",
              "          (output): BertOutput(\n",
              "            (dense): Linear(in_features=3072, out_features=768, bias=True)\n",
              "            (LayerNorm): LayerNorm((768,), eps=1e-12, elementwise_affine=True)\n",
              "            (dropout): Dropout(p=0.1, inplace=False)\n",
              "          )\n",
              "        )\n",
              "        (5): BertLayer(\n",
              "          (attention): BertAttention(\n",
              "            (self): BertSelfAttention(\n",
              "              (query): Linear(in_features=768, out_features=768, bias=True)\n",
              "              (key): Linear(in_features=768, out_features=768, bias=True)\n",
              "              (value): Linear(in_features=768, out_features=768, bias=True)\n",
              "              (dropout): Dropout(p=0.1, inplace=False)\n",
              "            )\n",
              "            (output): BertSelfOutput(\n",
              "              (dense): Linear(in_features=768, out_features=768, bias=True)\n",
              "              (LayerNorm): LayerNorm((768,), eps=1e-12, elementwise_affine=True)\n",
              "              (dropout): Dropout(p=0.1, inplace=False)\n",
              "            )\n",
              "          )\n",
              "          (intermediate): BertIntermediate(\n",
              "            (dense): Linear(in_features=768, out_features=3072, bias=True)\n",
              "          )\n",
              "          (output): BertOutput(\n",
              "            (dense): Linear(in_features=3072, out_features=768, bias=True)\n",
              "            (LayerNorm): LayerNorm((768,), eps=1e-12, elementwise_affine=True)\n",
              "            (dropout): Dropout(p=0.1, inplace=False)\n",
              "          )\n",
              "        )\n",
              "        (6): BertLayer(\n",
              "          (attention): BertAttention(\n",
              "            (self): BertSelfAttention(\n",
              "              (query): Linear(in_features=768, out_features=768, bias=True)\n",
              "              (key): Linear(in_features=768, out_features=768, bias=True)\n",
              "              (value): Linear(in_features=768, out_features=768, bias=True)\n",
              "              (dropout): Dropout(p=0.1, inplace=False)\n",
              "            )\n",
              "            (output): BertSelfOutput(\n",
              "              (dense): Linear(in_features=768, out_features=768, bias=True)\n",
              "              (LayerNorm): LayerNorm((768,), eps=1e-12, elementwise_affine=True)\n",
              "              (dropout): Dropout(p=0.1, inplace=False)\n",
              "            )\n",
              "          )\n",
              "          (intermediate): BertIntermediate(\n",
              "            (dense): Linear(in_features=768, out_features=3072, bias=True)\n",
              "          )\n",
              "          (output): BertOutput(\n",
              "            (dense): Linear(in_features=3072, out_features=768, bias=True)\n",
              "            (LayerNorm): LayerNorm((768,), eps=1e-12, elementwise_affine=True)\n",
              "            (dropout): Dropout(p=0.1, inplace=False)\n",
              "          )\n",
              "        )\n",
              "        (7): BertLayer(\n",
              "          (attention): BertAttention(\n",
              "            (self): BertSelfAttention(\n",
              "              (query): Linear(in_features=768, out_features=768, bias=True)\n",
              "              (key): Linear(in_features=768, out_features=768, bias=True)\n",
              "              (value): Linear(in_features=768, out_features=768, bias=True)\n",
              "              (dropout): Dropout(p=0.1, inplace=False)\n",
              "            )\n",
              "            (output): BertSelfOutput(\n",
              "              (dense): Linear(in_features=768, out_features=768, bias=True)\n",
              "              (LayerNorm): LayerNorm((768,), eps=1e-12, elementwise_affine=True)\n",
              "              (dropout): Dropout(p=0.1, inplace=False)\n",
              "            )\n",
              "          )\n",
              "          (intermediate): BertIntermediate(\n",
              "            (dense): Linear(in_features=768, out_features=3072, bias=True)\n",
              "          )\n",
              "          (output): BertOutput(\n",
              "            (dense): Linear(in_features=3072, out_features=768, bias=True)\n",
              "            (LayerNorm): LayerNorm((768,), eps=1e-12, elementwise_affine=True)\n",
              "            (dropout): Dropout(p=0.1, inplace=False)\n",
              "          )\n",
              "        )\n",
              "        (8): BertLayer(\n",
              "          (attention): BertAttention(\n",
              "            (self): BertSelfAttention(\n",
              "              (query): Linear(in_features=768, out_features=768, bias=True)\n",
              "              (key): Linear(in_features=768, out_features=768, bias=True)\n",
              "              (value): Linear(in_features=768, out_features=768, bias=True)\n",
              "              (dropout): Dropout(p=0.1, inplace=False)\n",
              "            )\n",
              "            (output): BertSelfOutput(\n",
              "              (dense): Linear(in_features=768, out_features=768, bias=True)\n",
              "              (LayerNorm): LayerNorm((768,), eps=1e-12, elementwise_affine=True)\n",
              "              (dropout): Dropout(p=0.1, inplace=False)\n",
              "            )\n",
              "          )\n",
              "          (intermediate): BertIntermediate(\n",
              "            (dense): Linear(in_features=768, out_features=3072, bias=True)\n",
              "          )\n",
              "          (output): BertOutput(\n",
              "            (dense): Linear(in_features=3072, out_features=768, bias=True)\n",
              "            (LayerNorm): LayerNorm((768,), eps=1e-12, elementwise_affine=True)\n",
              "            (dropout): Dropout(p=0.1, inplace=False)\n",
              "          )\n",
              "        )\n",
              "        (9): BertLayer(\n",
              "          (attention): BertAttention(\n",
              "            (self): BertSelfAttention(\n",
              "              (query): Linear(in_features=768, out_features=768, bias=True)\n",
              "              (key): Linear(in_features=768, out_features=768, bias=True)\n",
              "              (value): Linear(in_features=768, out_features=768, bias=True)\n",
              "              (dropout): Dropout(p=0.1, inplace=False)\n",
              "            )\n",
              "            (output): BertSelfOutput(\n",
              "              (dense): Linear(in_features=768, out_features=768, bias=True)\n",
              "              (LayerNorm): LayerNorm((768,), eps=1e-12, elementwise_affine=True)\n",
              "              (dropout): Dropout(p=0.1, inplace=False)\n",
              "            )\n",
              "          )\n",
              "          (intermediate): BertIntermediate(\n",
              "            (dense): Linear(in_features=768, out_features=3072, bias=True)\n",
              "          )\n",
              "          (output): BertOutput(\n",
              "            (dense): Linear(in_features=3072, out_features=768, bias=True)\n",
              "            (LayerNorm): LayerNorm((768,), eps=1e-12, elementwise_affine=True)\n",
              "            (dropout): Dropout(p=0.1, inplace=False)\n",
              "          )\n",
              "        )\n",
              "        (10): BertLayer(\n",
              "          (attention): BertAttention(\n",
              "            (self): BertSelfAttention(\n",
              "              (query): Linear(in_features=768, out_features=768, bias=True)\n",
              "              (key): Linear(in_features=768, out_features=768, bias=True)\n",
              "              (value): Linear(in_features=768, out_features=768, bias=True)\n",
              "              (dropout): Dropout(p=0.1, inplace=False)\n",
              "            )\n",
              "            (output): BertSelfOutput(\n",
              "              (dense): Linear(in_features=768, out_features=768, bias=True)\n",
              "              (LayerNorm): LayerNorm((768,), eps=1e-12, elementwise_affine=True)\n",
              "              (dropout): Dropout(p=0.1, inplace=False)\n",
              "            )\n",
              "          )\n",
              "          (intermediate): BertIntermediate(\n",
              "            (dense): Linear(in_features=768, out_features=3072, bias=True)\n",
              "          )\n",
              "          (output): BertOutput(\n",
              "            (dense): Linear(in_features=3072, out_features=768, bias=True)\n",
              "            (LayerNorm): LayerNorm((768,), eps=1e-12, elementwise_affine=True)\n",
              "            (dropout): Dropout(p=0.1, inplace=False)\n",
              "          )\n",
              "        )\n",
              "        (11): BertLayer(\n",
              "          (attention): BertAttention(\n",
              "            (self): BertSelfAttention(\n",
              "              (query): Linear(in_features=768, out_features=768, bias=True)\n",
              "              (key): Linear(in_features=768, out_features=768, bias=True)\n",
              "              (value): Linear(in_features=768, out_features=768, bias=True)\n",
              "              (dropout): Dropout(p=0.1, inplace=False)\n",
              "            )\n",
              "            (output): BertSelfOutput(\n",
              "              (dense): Linear(in_features=768, out_features=768, bias=True)\n",
              "              (LayerNorm): LayerNorm((768,), eps=1e-12, elementwise_affine=True)\n",
              "              (dropout): Dropout(p=0.1, inplace=False)\n",
              "            )\n",
              "          )\n",
              "          (intermediate): BertIntermediate(\n",
              "            (dense): Linear(in_features=768, out_features=3072, bias=True)\n",
              "          )\n",
              "          (output): BertOutput(\n",
              "            (dense): Linear(in_features=3072, out_features=768, bias=True)\n",
              "            (LayerNorm): LayerNorm((768,), eps=1e-12, elementwise_affine=True)\n",
              "            (dropout): Dropout(p=0.1, inplace=False)\n",
              "          )\n",
              "        )\n",
              "      )\n",
              "    )\n",
              "    (pooler): BertPooler(\n",
              "      (dense): Linear(in_features=768, out_features=768, bias=True)\n",
              "      (activation): Tanh()\n",
              "    )\n",
              "  )\n",
              "  (dropout): Dropout(p=0.1, inplace=False)\n",
              "  (classifier): Linear(in_features=768, out_features=6, bias=True)\n",
              ")"
            ]
          },
          "metadata": {
            "tags": []
          },
          "execution_count": 57
        }
      ]
    },
    {
      "cell_type": "code",
      "metadata": {
        "id": "h-aHQ1mpyaqm"
      },
      "source": [
        "optimizer = AdamW(bert_model.parameters(),\n",
        "                  lr = 2e-5, # args.learning_rate - default is 5e-5, our notebook had 2e-5\n",
        "                  eps = 1e-8 # args.adam_epsilon  - default is 1e-8.\n",
        "                )"
      ],
      "execution_count": 58,
      "outputs": []
    },
    {
      "cell_type": "code",
      "metadata": {
        "id": "acnZcFHeydsm"
      },
      "source": [
        "from transformers import get_linear_schedule_with_warmup\n",
        "\n",
        "# Number of training epochs. The BERT authors recommend between 2 and 4. \n",
        "# We chose to run for 4, but we'll see later that this may be over-fitting the\n",
        "# training data.\n",
        "epochs = 4\n",
        "\n",
        "# Total number of training steps is [number of batches] x [number of epochs].\n",
        "total_steps = len(train_dataloader) * epochs\n",
        "\n",
        "# Create the learning rate scheduler.\n",
        "scheduler = get_linear_schedule_with_warmup(optimizer, \n",
        "                                            num_warmup_steps = 0, # Default value in run_glue.py\n",
        "                                            num_training_steps = total_steps)"
      ],
      "execution_count": 59,
      "outputs": []
    },
    {
      "cell_type": "code",
      "metadata": {
        "id": "HN7y7NT1yimO"
      },
      "source": [
        "import time\n",
        "import datetime\n",
        "\n",
        "def format_time(elapsed):\n",
        "    '''\n",
        "    Takes a time in seconds and returns a string hh:mm:ss\n",
        "    '''\n",
        "    # Round to the nearest second.\n",
        "    elapsed_rounded = int(round((elapsed)))\n",
        "    \n",
        "    # Format as hh:mm:ss\n",
        "    return str(datetime.timedelta(seconds=elapsed_rounded))"
      ],
      "execution_count": 60,
      "outputs": []
    },
    {
      "cell_type": "code",
      "metadata": {
        "id": "tv6zAQrNbQtx"
      },
      "source": [
        "import numpy as np\n",
        "\n",
        "# Function to calculate the accuracy of our predictions vs labels\n",
        "def flat_accuracy(preds, labels):\n",
        "    pred_flat = np.argmax(preds, axis=1).flatten()\n",
        "    labels_flat = labels.flatten()\n",
        "    return np.sum(pred_flat == labels_flat) / len(labels_flat)"
      ],
      "execution_count": 61,
      "outputs": []
    },
    {
      "cell_type": "code",
      "metadata": {
        "colab": {
          "base_uri": "https://localhost:8080/"
        },
        "id": "r7BvfeT8yohM",
        "outputId": "9d8b50ad-3d40-4c78-907d-7db80b55d971"
      },
      "source": [
        "import random\n",
        "import numpy as np\n",
        "\n",
        "# This training code is based on the `run_glue.py` script here:\n",
        "# https://github.com/huggingface/transformers/blob/5bfcd0485ece086ebcbed2d008813037968a9e58/examples/run_glue.py#L128\n",
        "\n",
        "# Set the seed value all over the place to make this reproducible.\n",
        "seed_val = 42\n",
        "\n",
        "random.seed(seed_val)\n",
        "np.random.seed(seed_val)\n",
        "torch.manual_seed(seed_val)\n",
        "torch.cuda.manual_seed_all(seed_val)\n",
        "\n",
        "# We'll store a number of quantities such as training and validation loss, \n",
        "# training and validation accuracy, and timings.\n",
        "training_stats = []\n",
        "\n",
        "# Measure the total training time for the whole run.\n",
        "total_t0 = time.time()\n",
        "\n",
        "# For each epoch...\n",
        "for epoch_i in range(0, epochs):\n",
        "    \n",
        "    # ========================================\n",
        "    #               Training\n",
        "    # ========================================\n",
        "    \n",
        "    # Perform one full pass over the training set.\n",
        "\n",
        "    print(\"\")\n",
        "    print('======== Epoch {:} / {:} ========'.format(epoch_i + 1, epochs))\n",
        "    print('Training...')\n",
        "\n",
        "    # Measure how long the training epoch takes.\n",
        "    t0 = time.time()\n",
        "\n",
        "    # Reset the total loss and accuracy for this epoch.\n",
        "    total_train_loss = 0\n",
        "    total_train_accuracy = 0\n",
        "\n",
        "    # Put the model into training mode. Don't be mislead--the call to \n",
        "    # `train` just changes the *mode*, it doesn't *perform* the training.\n",
        "    # `dropout` and `batchnorm` layers behave differently during training\n",
        "    # vs. test (source: https://stackoverflow.com/questions/51433378/what-does-model-train-do-in-pytorch)\n",
        "    bert_model.train()\n",
        "\n",
        "    # For each batch of training data...\n",
        "    for step, batch in enumerate(train_dataloader):\n",
        "\n",
        "        # Progress update every 40 batches.\n",
        "        if step % 40 == 0 and not step == 0:\n",
        "            # Calculate elapsed time in minutes.\n",
        "            elapsed = format_time(time.time() - t0)\n",
        "            \n",
        "            # Report progress.\n",
        "            print('  Batch {:>5,}  of  {:>5,}.    Elapsed: {:}.'.format(step, len(train_dataloader), elapsed))\n",
        "\n",
        "        # Unpack this training batch from our dataloader. \n",
        "        #\n",
        "        # As we unpack the batch, we'll also copy each tensor to the GPU using the \n",
        "        # `to` method.\n",
        "        #\n",
        "        # `batch` contains three pytorch tensors:\n",
        "        #   [0]: input ids \n",
        "        #   [1]: attention masks\n",
        "        #   [2]: labels \n",
        "        b_input_ids = batch[0].to(device)\n",
        "        b_input_mask = batch[1].to(device)\n",
        "        b_labels = batch[2].to(device)\n",
        "\n",
        "        # Always clear any previously calculated gradients before performing a\n",
        "        # backward pass. PyTorch doesn't do this automatically because \n",
        "        # accumulating the gradients is \"convenient while training RNNs\". \n",
        "        # (source: https://stackoverflow.com/questions/48001598/why-do-we-need-to-call-zero-grad-in-pytorch)\n",
        "        bert_model.zero_grad()        \n",
        "\n",
        "        # Perform a forward pass (evaluate the model on this training batch).\n",
        "        # The documentation for this `model` function is here: \n",
        "        # https://huggingface.co/transformers/v2.2.0/model_doc/bert.html#transformers.BertForSequenceClassification\n",
        "        # It returns different numbers of parameters depending on what arguments\n",
        "        # arge given and what flags are set. For our useage here, it returns\n",
        "        # the loss (because we provided labels) and the \"logits\"--the model\n",
        "        # outputs prior to activation.\n",
        "        result = bert_model(b_input_ids, \n",
        "                             token_type_ids=None, \n",
        "                             attention_mask=b_input_mask, \n",
        "                             labels=b_labels)\n",
        "        \n",
        "        loss, logits = result.loss, result.logits\n",
        "\n",
        "        # Accumulate the training loss over all of the batches so that we can\n",
        "        # calculate the average loss at the end. `loss` is a Tensor containing a\n",
        "        # single value; the `.item()` function just returns the Python value \n",
        "        # from the tensor.\n",
        "        total_train_loss += loss.item()\n",
        "\n",
        "        # Perform a backward pass to calculate the gradients.\n",
        "        loss.backward()\n",
        "\n",
        "        # Clip the norm of the gradients to 1.0.\n",
        "        # This is to help prevent the \"exploding gradients\" problem.\n",
        "        torch.nn.utils.clip_grad_norm_(bert_model.parameters(), 1.0)\n",
        "\n",
        "        # Update parameters and take a step using the computed gradient.\n",
        "        # The optimizer dictates the \"update rule\"--how the parameters are\n",
        "        # modified based on their gradients, the learning rate, etc.\n",
        "        optimizer.step()\n",
        "\n",
        "        # Update the learning rate.\n",
        "        scheduler.step()\n",
        "\n",
        "        # Move logits and labels to CPU\n",
        "        logits_train = logits.detach().cpu().numpy()\n",
        "        label_ids_train = b_labels.to('cpu').numpy()\n",
        "\n",
        "        # Calculate the accuracy for this batch of train sentences, and\n",
        "        # accumulate it over all batches.\n",
        "        total_train_accuracy += flat_accuracy(logits_train, label_ids_train)\n",
        "\n",
        "      \n",
        "    # Report the final accuracy for this validation run.\n",
        "    avg_train_accuracy = total_train_accuracy / len(train_dataloader)\n",
        "\n",
        "    # Calculate the average loss over all of the batches.\n",
        "    avg_train_loss = total_train_loss / len(train_dataloader)            \n",
        "    \n",
        "    # Measure how long this epoch took.\n",
        "    training_time = format_time(time.time() - t0)\n",
        "\n",
        "    print(\"\")\n",
        "    print(\"  Training accuracy: {0:.2f}\".format(avg_train_accuracy))\n",
        "    print(\"  Average training loss: {0:.2f}\".format(avg_train_loss))\n",
        "    print(\"  Training epcoh took: {:}\".format(training_time))\n",
        "        \n",
        "    # ========================================\n",
        "    #               Validation\n",
        "    # ========================================\n",
        "    # After the completion of each training epoch, measure our performance on\n",
        "    # our validation set.\n",
        "\n",
        "    print(\"\")\n",
        "    print(\"Running Validation...\")\n",
        "\n",
        "    t0 = time.time()\n",
        "\n",
        "    # Put the model in evaluation mode--the dropout layers behave differently\n",
        "    # during evaluation.\n",
        "    bert_model.eval()\n",
        "\n",
        "    # Tracking variables \n",
        "    total_eval_accuracy = 0\n",
        "    total_eval_loss = 0\n",
        "    nb_eval_steps = 0\n",
        "\n",
        "    validation_results = []\n",
        "\n",
        "    # Evaluate data for one epoch\n",
        "    for batch in validation_dataloader:\n",
        "        \n",
        "        # Unpack this training batch from our dataloader. \n",
        "        #\n",
        "        # As we unpack the batch, we'll also copy each tensor to the GPU using \n",
        "        # the `to` method.\n",
        "        #\n",
        "        # `batch` contains three pytorch tensors:\n",
        "        #   [0]: input ids \n",
        "        #   [1]: attention masks\n",
        "        #   [2]: labels \n",
        "        b_input_ids = batch[0].to(device)\n",
        "        b_input_mask = batch[1].to(device)\n",
        "        b_labels = batch[2].to(device)\n",
        "        \n",
        "        # Tell pytorch not to bother with constructing the compute graph during\n",
        "        # the forward pass, since this is only needed for backprop (training).\n",
        "        with torch.no_grad():        \n",
        "\n",
        "            # Forward pass, calculate logit predictions.\n",
        "            # token_type_ids is the same as the \"segment ids\", which \n",
        "            # differentiates sentence 1 and 2 in 2-sentence tasks.\n",
        "            # The documentation for this `model` function is here: \n",
        "            # https://huggingface.co/transformers/v2.2.0/model_doc/bert.html#transformers.BertForSequenceClassification\n",
        "            # Get the \"logits\" output by the model. The \"logits\" are the output\n",
        "            # values prior to applying an activation function like the softmax.\n",
        "            results_val = bert_model(b_input_ids, \n",
        "                                   token_type_ids=None, \n",
        "                                   attention_mask=b_input_mask,\n",
        "                                   labels=b_labels)\n",
        "            \n",
        "            loss_val, logits_val = results_val.loss, results_val.logits\n",
        "\n",
        "            validation_results.append(logits_val)\n",
        "            \n",
        "        # Accumulate the validation loss.\n",
        "        total_eval_loss += loss_val.item()\n",
        "\n",
        "        # Move logits and labels to CPU\n",
        "        logits_val = logits_val.detach().cpu().numpy()\n",
        "        label_ids_val = b_labels.to('cpu').numpy()\n",
        "\n",
        "        # Calculate the accuracy for this batch of test sentences, and\n",
        "        # accumulate it over all batches.\n",
        "        total_eval_accuracy += flat_accuracy(logits_val, label_ids_val)\n",
        "        \n",
        "\n",
        "    # Report the final accuracy for this validation run.\n",
        "    avg_val_accuracy = total_eval_accuracy / len(validation_dataloader)\n",
        "    print(\"  Validation accuracy: {0:.2f}\".format(avg_val_accuracy))\n",
        "\n",
        "    # Calculate the average loss over all of the batches.\n",
        "    avg_val_loss = total_eval_loss / len(validation_dataloader)\n",
        "    \n",
        "    # Measure how long the validation run took.\n",
        "    validation_time = format_time(time.time() - t0)\n",
        "    \n",
        "    print(\"  Validation Loss: {0:.2f}\".format(avg_val_loss))\n",
        "    print(\"  Validation took: {:}\".format(validation_time))\n",
        "\n",
        "    # Record all statistics from this epoch.\n",
        "    training_stats.append(\n",
        "        {\n",
        "            'epoch': epoch_i + 1,\n",
        "            'Training Loss': avg_train_loss,\n",
        "            'Training Accur.': avg_train_accuracy,\n",
        "            'Valid Loss': avg_val_loss,\n",
        "            'Valid Accur.': avg_val_accuracy,\n",
        "            'Training Time': training_time,\n",
        "            'Validation Time': validation_time\n",
        "        }\n",
        "    )\n",
        "\n",
        "print(\"\")\n",
        "print(\"Training complete!\")\n",
        "\n",
        "print(\"Total training took {:} (h:mm:ss)\".format(format_time(time.time()-total_t0)))"
      ],
      "execution_count": 62,
      "outputs": [
        {
          "output_type": "stream",
          "text": [
            "\n",
            "======== Epoch 1 / 4 ========\n",
            "Training...\n",
            "  Batch    40  of    335.    Elapsed: 0:00:46.\n",
            "  Batch    80  of    335.    Elapsed: 0:01:37.\n",
            "  Batch   120  of    335.    Elapsed: 0:02:26.\n",
            "  Batch   160  of    335.    Elapsed: 0:03:15.\n",
            "  Batch   200  of    335.    Elapsed: 0:04:05.\n",
            "  Batch   240  of    335.    Elapsed: 0:04:55.\n",
            "  Batch   280  of    335.    Elapsed: 0:05:44.\n",
            "  Batch   320  of    335.    Elapsed: 0:06:34.\n",
            "\n",
            "  Training accuracy: 0.47\n",
            "  Average training loss: 1.35\n",
            "  Training epcoh took: 0:06:52\n",
            "\n",
            "Running Validation...\n",
            "  Validation accuracy: 0.57\n",
            "  Validation Loss: 1.14\n",
            "  Validation took: 0:01:15\n",
            "\n",
            "======== Epoch 2 / 4 ========\n",
            "Training...\n",
            "  Batch    40  of    335.    Elapsed: 0:00:50.\n",
            "  Batch    80  of    335.    Elapsed: 0:01:39.\n",
            "  Batch   120  of    335.    Elapsed: 0:02:29.\n",
            "  Batch   160  of    335.    Elapsed: 0:03:19.\n",
            "  Batch   200  of    335.    Elapsed: 0:04:08.\n",
            "  Batch   240  of    335.    Elapsed: 0:04:58.\n",
            "  Batch   280  of    335.    Elapsed: 0:05:47.\n",
            "  Batch   320  of    335.    Elapsed: 0:06:37.\n",
            "\n",
            "  Training accuracy: 0.65\n",
            "  Average training loss: 0.97\n",
            "  Training epcoh took: 0:06:55\n",
            "\n",
            "Running Validation...\n",
            "  Validation accuracy: 0.63\n",
            "  Validation Loss: 1.01\n",
            "  Validation took: 0:01:15\n",
            "\n",
            "======== Epoch 3 / 4 ========\n",
            "Training...\n",
            "  Batch    40  of    335.    Elapsed: 0:00:50.\n",
            "  Batch    80  of    335.    Elapsed: 0:01:39.\n",
            "  Batch   120  of    335.    Elapsed: 0:02:29.\n",
            "  Batch   160  of    335.    Elapsed: 0:03:18.\n",
            "  Batch   200  of    335.    Elapsed: 0:04:08.\n",
            "  Batch   240  of    335.    Elapsed: 0:04:58.\n",
            "  Batch   280  of    335.    Elapsed: 0:05:47.\n",
            "  Batch   320  of    335.    Elapsed: 0:06:37.\n",
            "\n",
            "  Training accuracy: 0.76\n",
            "  Average training loss: 0.71\n",
            "  Training epcoh took: 0:06:55\n",
            "\n",
            "Running Validation...\n",
            "  Validation accuracy: 0.64\n",
            "  Validation Loss: 1.05\n",
            "  Validation took: 0:01:15\n",
            "\n",
            "======== Epoch 4 / 4 ========\n",
            "Training...\n",
            "  Batch    40  of    335.    Elapsed: 0:00:50.\n",
            "  Batch    80  of    335.    Elapsed: 0:01:39.\n",
            "  Batch   120  of    335.    Elapsed: 0:02:29.\n",
            "  Batch   160  of    335.    Elapsed: 0:03:18.\n",
            "  Batch   200  of    335.    Elapsed: 0:04:08.\n",
            "  Batch   240  of    335.    Elapsed: 0:04:57.\n",
            "  Batch   280  of    335.    Elapsed: 0:05:47.\n",
            "  Batch   320  of    335.    Elapsed: 0:06:36.\n",
            "\n",
            "  Training accuracy: 0.84\n",
            "  Average training loss: 0.52\n",
            "  Training epcoh took: 0:06:55\n",
            "\n",
            "Running Validation...\n",
            "  Validation accuracy: 0.64\n",
            "  Validation Loss: 1.06\n",
            "  Validation took: 0:01:15\n",
            "\n",
            "Training complete!\n",
            "Total training took 0:32:37 (h:mm:ss)\n"
          ],
          "name": "stdout"
        }
      ]
    },
    {
      "cell_type": "code",
      "metadata": {
        "colab": {
          "base_uri": "https://localhost:8080/",
          "height": 204
        },
        "id": "z_hDGL4-baJX",
        "outputId": "4ce3eb01-e682-40cf-ce45-b8769057b156"
      },
      "source": [
        "import pandas as pd\n",
        "\n",
        "# Display floats with two decimal places.\n",
        "pd.set_option('precision', 2)\n",
        "\n",
        "# Create a DataFrame from our training statistics.\n",
        "df_stats = pd.DataFrame(data=training_stats)\n",
        "\n",
        "# Use the 'epoch' as the row index.\n",
        "df_stats = df_stats.set_index('epoch')\n",
        "\n",
        "# A hack to force the column headers to wrap.\n",
        "#df = df.style.set_table_styles([dict(selector=\"th\",props=[('max-width', '70px')])])\n",
        "\n",
        "# Display the table.\n",
        "df_stats"
      ],
      "execution_count": 63,
      "outputs": [
        {
          "output_type": "execute_result",
          "data": {
            "text/html": [
              "<div>\n",
              "<style scoped>\n",
              "    .dataframe tbody tr th:only-of-type {\n",
              "        vertical-align: middle;\n",
              "    }\n",
              "\n",
              "    .dataframe tbody tr th {\n",
              "        vertical-align: top;\n",
              "    }\n",
              "\n",
              "    .dataframe thead th {\n",
              "        text-align: right;\n",
              "    }\n",
              "</style>\n",
              "<table border=\"1\" class=\"dataframe\">\n",
              "  <thead>\n",
              "    <tr style=\"text-align: right;\">\n",
              "      <th></th>\n",
              "      <th>Training Loss</th>\n",
              "      <th>Training Accur.</th>\n",
              "      <th>Valid Loss</th>\n",
              "      <th>Valid Accur.</th>\n",
              "      <th>Training Time</th>\n",
              "      <th>Validation Time</th>\n",
              "    </tr>\n",
              "    <tr>\n",
              "      <th>epoch</th>\n",
              "      <th></th>\n",
              "      <th></th>\n",
              "      <th></th>\n",
              "      <th></th>\n",
              "      <th></th>\n",
              "      <th></th>\n",
              "    </tr>\n",
              "  </thead>\n",
              "  <tbody>\n",
              "    <tr>\n",
              "      <th>1</th>\n",
              "      <td>1.35</td>\n",
              "      <td>0.47</td>\n",
              "      <td>1.14</td>\n",
              "      <td>0.57</td>\n",
              "      <td>0:06:52</td>\n",
              "      <td>0:01:15</td>\n",
              "    </tr>\n",
              "    <tr>\n",
              "      <th>2</th>\n",
              "      <td>0.97</td>\n",
              "      <td>0.65</td>\n",
              "      <td>1.01</td>\n",
              "      <td>0.63</td>\n",
              "      <td>0:06:55</td>\n",
              "      <td>0:01:15</td>\n",
              "    </tr>\n",
              "    <tr>\n",
              "      <th>3</th>\n",
              "      <td>0.71</td>\n",
              "      <td>0.76</td>\n",
              "      <td>1.05</td>\n",
              "      <td>0.64</td>\n",
              "      <td>0:06:55</td>\n",
              "      <td>0:01:15</td>\n",
              "    </tr>\n",
              "    <tr>\n",
              "      <th>4</th>\n",
              "      <td>0.52</td>\n",
              "      <td>0.84</td>\n",
              "      <td>1.06</td>\n",
              "      <td>0.64</td>\n",
              "      <td>0:06:55</td>\n",
              "      <td>0:01:15</td>\n",
              "    </tr>\n",
              "  </tbody>\n",
              "</table>\n",
              "</div>"
            ],
            "text/plain": [
              "       Training Loss  Training Accur.  ...  Training Time  Validation Time\n",
              "epoch                                  ...                                \n",
              "1               1.35             0.47  ...        0:06:52          0:01:15\n",
              "2               0.97             0.65  ...        0:06:55          0:01:15\n",
              "3               0.71             0.76  ...        0:06:55          0:01:15\n",
              "4               0.52             0.84  ...        0:06:55          0:01:15\n",
              "\n",
              "[4 rows x 6 columns]"
            ]
          },
          "metadata": {
            "tags": []
          },
          "execution_count": 63
        }
      ]
    },
    {
      "cell_type": "code",
      "metadata": {
        "colab": {
          "base_uri": "https://localhost:8080/",
          "height": 427
        },
        "id": "G1_rBTNBbZ1G",
        "outputId": "0c0cd884-479d-4c3a-f1a6-7973b3b1b2cc"
      },
      "source": [
        "import matplotlib.pyplot as plt\n",
        "% matplotlib inline\n",
        "\n",
        "import seaborn as sns\n",
        "\n",
        "# Use plot styling from seaborn.\n",
        "sns.set(style='darkgrid')\n",
        "\n",
        "# Increase the plot size and font size.\n",
        "sns.set(font_scale=1.5)\n",
        "plt.rcParams[\"figure.figsize\"] = (12,6)\n",
        "\n",
        "# Plot the learning curve.\n",
        "plt.plot(df_stats['Training Loss'], 'b-o', label=\"Training\")\n",
        "plt.plot(df_stats['Valid Loss'], 'g-o', label=\"Validation\")\n",
        "\n",
        "# Label the plot.\n",
        "plt.title(\"Training & Validation Loss\")\n",
        "plt.xlabel(\"Epoch\")\n",
        "plt.ylabel(\"Loss\")\n",
        "plt.legend()\n",
        "plt.xticks([1, 2, 3, 4])\n",
        "\n",
        "plt.show()"
      ],
      "execution_count": 64,
      "outputs": [
        {
          "output_type": "display_data",
          "data": {
            "image/png": "[encoded data removed]",
            "text/plain": [
              "<Figure size 864x432 with 1 Axes>"
            ]
          },
          "metadata": {
            "tags": []
          }
        }
      ]
    },
    {
      "cell_type": "code",
      "metadata": {
        "colab": {
          "base_uri": "https://localhost:8080/"
        },
        "id": "Jv1G_bVyphn8",
        "outputId": "9b5533b1-3c21-453e-e883-3f76ac31ce60"
      },
      "source": [
        "training_stats[-1]['Training Accur.']"
      ],
      "execution_count": 65,
      "outputs": [
        {
          "output_type": "execute_result",
          "data": {
            "text/plain": [
              "0.840961857379768"
            ]
          },
          "metadata": {
            "tags": []
          },
          "execution_count": 65
        }
      ]
    },
    {
      "cell_type": "code",
      "metadata": {
        "colab": {
          "base_uri": "https://localhost:8080/"
        },
        "id": "Fd4ySHWVpsS8",
        "outputId": "742ff276-e14b-41d7-8e11-e3147363b81c"
      },
      "source": [
        "training_stats[-1]['Valid Accur.']"
      ],
      "execution_count": 66,
      "outputs": [
        {
          "output_type": "execute_result",
          "data": {
            "text/plain": [
              "0.6449494949494953"
            ]
          },
          "metadata": {
            "tags": []
          },
          "execution_count": 66
        }
      ]
    },
    {
      "cell_type": "code",
      "metadata": {
        "colab": {
          "base_uri": "https://localhost:8080/"
        },
        "id": "FCd0_xkap4O-",
        "outputId": "c31af2f9-b43c-41d8-e203-1c0d4f46d385"
      },
      "source": [
        "print('Train Accuracy', training_stats[-1]['Training Accur.'])\n",
        "print('Valid Accuracy', training_stats[-1]['Valid Accur.'])"
      ],
      "execution_count": 67,
      "outputs": [
        {
          "output_type": "stream",
          "text": [
            "Train Accuracy 0.840961857379768\n",
            "Valid Accuracy 0.6449494949494953\n"
          ],
          "name": "stdout"
        }
      ]
    },
    {
      "cell_type": "code",
      "metadata": {
        "id": "x8YOGGvOp4Dg"
      },
      "source": [
        "results.append(['BERT - Pre-Trained (Bertimbau)',\n",
        "      training_stats[-1]['Training Accur.'],\n",
        "      training_stats[-1]['Valid Accur.']\n",
        "])"
      ],
      "execution_count": 68,
      "outputs": []
    },
    {
      "cell_type": "markdown",
      "metadata": {
        "id": "Mz4EUDHd0WgV"
      },
      "source": [
        "# **Results**"
      ]
    },
    {
      "cell_type": "markdown",
      "metadata": {
        "id": "wVUS89az9ww4"
      },
      "source": [
        "## **AUC Comparision**"
      ]
    },
    {
      "cell_type": "code",
      "metadata": {
        "colab": {
          "base_uri": "https://localhost:8080/",
          "height": 173
        },
        "id": "rNs61zAZzVs9",
        "outputId": "12bf9e66-243d-428c-9b80-9351446264f7"
      },
      "source": [
        "pd.DataFrame(results, columns=['Model', 'Training Accur.', 'Valid Accur.'])"
      ],
      "execution_count": 69,
      "outputs": [
        {
          "output_type": "execute_result",
          "data": {
            "text/html": [
              "<div>\n",
              "<style scoped>\n",
              "    .dataframe tbody tr th:only-of-type {\n",
              "        vertical-align: middle;\n",
              "    }\n",
              "\n",
              "    .dataframe tbody tr th {\n",
              "        vertical-align: top;\n",
              "    }\n",
              "\n",
              "    .dataframe thead th {\n",
              "        text-align: right;\n",
              "    }\n",
              "</style>\n",
              "<table border=\"1\" class=\"dataframe\">\n",
              "  <thead>\n",
              "    <tr style=\"text-align: right;\">\n",
              "      <th></th>\n",
              "      <th>Model</th>\n",
              "      <th>Training Accur.</th>\n",
              "      <th>Valid Accur.</th>\n",
              "    </tr>\n",
              "  </thead>\n",
              "  <tbody>\n",
              "    <tr>\n",
              "      <th>0</th>\n",
              "      <td>Bag of Words - TFIDF</td>\n",
              "      <td>0.79</td>\n",
              "      <td>0.56</td>\n",
              "    </tr>\n",
              "    <tr>\n",
              "      <th>1</th>\n",
              "      <td>Skipgram - Pre-Trained</td>\n",
              "      <td>0.46</td>\n",
              "      <td>0.43</td>\n",
              "    </tr>\n",
              "    <tr>\n",
              "      <th>2</th>\n",
              "      <td>Skipgram - Task-Specific</td>\n",
              "      <td>0.51</td>\n",
              "      <td>0.48</td>\n",
              "    </tr>\n",
              "    <tr>\n",
              "      <th>3</th>\n",
              "      <td>BERT - Pre-Trained (Bertimbau)</td>\n",
              "      <td>0.84</td>\n",
              "      <td>0.64</td>\n",
              "    </tr>\n",
              "  </tbody>\n",
              "</table>\n",
              "</div>"
            ],
            "text/plain": [
              "                            Model  Training Accur.  Valid Accur.\n",
              "0            Bag of Words - TFIDF             0.79          0.56\n",
              "1          Skipgram - Pre-Trained             0.46          0.43\n",
              "2        Skipgram - Task-Specific             0.51          0.48\n",
              "3  BERT - Pre-Trained (Bertimbau)             0.84          0.64"
            ]
          },
          "metadata": {
            "tags": []
          },
          "execution_count": 69
        }
      ]
    },
    {
      "cell_type": "markdown",
      "metadata": {
        "id": "VNCO4Ioy95J0"
      },
      "source": [
        "## **Confusion Matrix - Best Model**"
      ]
    },
    {
      "cell_type": "code",
      "metadata": {
        "id": "7EWO4-6h4KQV"
      },
      "source": [
        "val_pred_labels = np.array([])\n",
        "for b in validation_results:\n",
        "  val_pred_labels = np.append(val_pred_labels, np.argmax(b.detach().cpu().numpy(), axis=1).flatten())"
      ],
      "execution_count": 70,
      "outputs": []
    },
    {
      "cell_type": "code",
      "metadata": {
        "colab": {
          "base_uri": "https://localhost:8080/",
          "height": 638
        },
        "id": "XpGdvQDC7Ieq",
        "outputId": "d262fc1e-8353-4394-a2aa-37b07b415e76"
      },
      "source": [
        "from sklearn.metrics import confusion_matrix\n",
        "\n",
        "y_true = labels_valid.detach().cpu().numpy()\n",
        "y_pred = val_pred_labels\n",
        "data = confusion_matrix(y_true, y_pred)\n",
        "df_cm = pd.DataFrame(data, columns=le.classes_, index = le.classes_)\n",
        "df_cm.index.name = 'Actual'\n",
        "df_cm.columns.name = 'Predicted'\n",
        "plt.figure(figsize = (12,10))\n",
        "sns.set(font_scale=1.4)#for label size\n",
        "sns.heatmap(df_cm, cmap=\"Blues\", annot=True, fmt='g', annot_kws={\"size\": 16})# font size"
      ],
      "execution_count": 71,
      "outputs": [
        {
          "output_type": "execute_result",
          "data": {
            "text/plain": [
              "<matplotlib.axes._subplots.AxesSubplot at 0x7f50bb6474a8>"
            ]
          },
          "metadata": {
            "tags": []
          },
          "execution_count": 71
        },
        {
          "output_type": "display_data",
          "data": {
            "image/png": "[encoded data removed]",
            "text/plain": [
              "<Figure size 864x720 with 2 Axes>"
            ]
          },
          "metadata": {
            "tags": []
          }
        }
      ]
    },
    {
      "cell_type": "markdown",
      "metadata": {
        "id": "uARo6MLZ-BQC"
      },
      "source": [
        "As seen above, the model is making some confusion between MPB and Samba styles, styles that sometimes are very similar, as well as Pagode and Sertanejo, the artists from these two genres usually performes musics from each other genre."
      ]
    },
    {
      "cell_type": "markdown",
      "metadata": {
        "id": "Vjn0niTXBfsa"
      },
      "source": [
        "## **Precision, Recall and F1 Score - Best Model**"
      ]
    },
    {
      "cell_type": "code",
      "metadata": {
        "id": "U5ciHh5t_1cM"
      },
      "source": [
        "precision_recall_results = []\n",
        "for genre in le.classes_:\n",
        "  precision = df_cm.loc[genre, genre] / df_cm.loc[:, genre].sum()\n",
        "  recall = df_cm.loc[genre, genre] / df_cm.loc[genre, :].sum()\n",
        "  f1_score = (2*(precision * recall)) / (precision + recall)\n",
        "  precision_recall_results.append([precision, recall, f1_score])\n",
        "df_precision_recall_results = pd.DataFrame(precision_recall_results, columns=['precision', 'recall', 'f1_score'], index=le.classes_)"
      ],
      "execution_count": 72,
      "outputs": []
    },
    {
      "cell_type": "code",
      "metadata": {
        "colab": {
          "base_uri": "https://localhost:8080/",
          "height": 235
        },
        "id": "eNOPt2ZZAyUH",
        "outputId": "9cfdfa1f-7b63-4b2d-ee2a-ccb59ae415df"
      },
      "source": [
        "df_precision_recall_results"
      ],
      "execution_count": 73,
      "outputs": [
        {
          "output_type": "execute_result",
          "data": {
            "text/html": [
              "<div>\n",
              "<style scoped>\n",
              "    .dataframe tbody tr th:only-of-type {\n",
              "        vertical-align: middle;\n",
              "    }\n",
              "\n",
              "    .dataframe tbody tr th {\n",
              "        vertical-align: top;\n",
              "    }\n",
              "\n",
              "    .dataframe thead th {\n",
              "        text-align: right;\n",
              "    }\n",
              "</style>\n",
              "<table border=\"1\" class=\"dataframe\">\n",
              "  <thead>\n",
              "    <tr style=\"text-align: right;\">\n",
              "      <th></th>\n",
              "      <th>precision</th>\n",
              "      <th>recall</th>\n",
              "      <th>f1_score</th>\n",
              "    </tr>\n",
              "  </thead>\n",
              "  <tbody>\n",
              "    <tr>\n",
              "      <th>axe</th>\n",
              "      <td>0.73</td>\n",
              "      <td>0.57</td>\n",
              "      <td>0.64</td>\n",
              "    </tr>\n",
              "    <tr>\n",
              "      <th>funk</th>\n",
              "      <td>0.85</td>\n",
              "      <td>0.85</td>\n",
              "      <td>0.85</td>\n",
              "    </tr>\n",
              "    <tr>\n",
              "      <th>mpb</th>\n",
              "      <td>0.67</td>\n",
              "      <td>0.55</td>\n",
              "      <td>0.61</td>\n",
              "    </tr>\n",
              "    <tr>\n",
              "      <th>pagode</th>\n",
              "      <td>0.58</td>\n",
              "      <td>0.59</td>\n",
              "      <td>0.59</td>\n",
              "    </tr>\n",
              "    <tr>\n",
              "      <th>samba</th>\n",
              "      <td>0.58</td>\n",
              "      <td>0.58</td>\n",
              "      <td>0.58</td>\n",
              "    </tr>\n",
              "    <tr>\n",
              "      <th>sertanejo</th>\n",
              "      <td>0.52</td>\n",
              "      <td>0.73</td>\n",
              "      <td>0.61</td>\n",
              "    </tr>\n",
              "  </tbody>\n",
              "</table>\n",
              "</div>"
            ],
            "text/plain": [
              "           precision  recall  f1_score\n",
              "axe             0.73    0.57      0.64\n",
              "funk            0.85    0.85      0.85\n",
              "mpb             0.67    0.55      0.61\n",
              "pagode          0.58    0.59      0.59\n",
              "samba           0.58    0.58      0.58\n",
              "sertanejo       0.52    0.73      0.61"
            ]
          },
          "metadata": {
            "tags": []
          },
          "execution_count": 73
        }
      ]
    }
  ]
}
